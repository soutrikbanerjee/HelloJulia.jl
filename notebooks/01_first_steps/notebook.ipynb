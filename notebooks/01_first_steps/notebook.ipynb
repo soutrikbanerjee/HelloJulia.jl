{
 "cells": [
  {
   "cell_type": "markdown",
   "source": [
    "# Tutorial 1"
   ],
   "metadata": {}
  },
  {
   "cell_type": "markdown",
   "source": [
    "Notebook from [HelloJulia.jl](https://github.com/ablaom/HelloJulia.jl)"
   ],
   "metadata": {}
  },
  {
   "cell_type": "markdown",
   "source": [
    "Crash course in Julia basics:"
   ],
   "metadata": {}
  },
  {
   "cell_type": "markdown",
   "source": [
    "Arithmetic, arrays, tuples, strings, dictionaries, functions,\n",
    "iteration, random numbers, package loading, plotting"
   ],
   "metadata": {}
  },
  {
   "cell_type": "markdown",
   "source": [
    "(40 min)"
   ],
   "metadata": {}
  },
  {
   "cell_type": "markdown",
   "source": [
    "## Setup"
   ],
   "metadata": {}
  },
  {
   "cell_type": "markdown",
   "source": [
    "The following block of code installs some third-party Julia packges. Beginners do not need\n",
    "to understand it."
   ],
   "metadata": {}
  },
  {
   "outputs": [
    {
     "name": "stdout",
     "output_type": "stream",
     "text": [
      "  Activating project at `~/GoogleDrive/Julia/HelloJulia`\n"
     ]
    }
   ],
   "cell_type": "code",
   "source": [
    "using Pkg\n",
    "Pkg.activate(joinpath(@__DIR__, \"..\", \"..\"))\n",
    "Pkg.instantiate()"
   ],
   "metadata": {},
   "execution_count": 1
  },
  {
   "cell_type": "markdown",
   "source": [
    "## Julia is a calculator:"
   ],
   "metadata": {}
  },
  {
   "outputs": [
    {
     "output_type": "execute_result",
     "data": {
      "text/plain": "9"
     },
     "metadata": {},
     "execution_count": 2
    }
   ],
   "cell_type": "code",
   "source": [
    "1 + 2^3"
   ],
   "metadata": {},
   "execution_count": 2
  },
  {
   "outputs": [
    {
     "output_type": "execute_result",
     "data": {
      "text/plain": "3.0"
     },
     "metadata": {},
     "execution_count": 3
    }
   ],
   "cell_type": "code",
   "source": [
    "sqrt(1 + 2^3) # do `sqrt(ans)` in REPL"
   ],
   "metadata": {},
   "execution_count": 3
  },
  {
   "outputs": [
    {
     "output_type": "execute_result",
     "data": {
      "text/plain": "0.0"
     },
     "metadata": {},
     "execution_count": 4
    }
   ],
   "cell_type": "code",
   "source": [
    "sin(pi)"
   ],
   "metadata": {},
   "execution_count": 4
  },
  {
   "cell_type": "markdown",
   "source": [
    "Query a function's document:"
   ],
   "metadata": {}
  },
  {
   "outputs": [
    {
     "output_type": "execute_result",
     "data": {
      "text/plain": "\u001b[36m  sin(x)\u001b[39m\n\n  Compute sine of \u001b[36mx\u001b[39m, where \u001b[36mx\u001b[39m is in radians.\n\n  See also \u001b[36msind\u001b[39m, \u001b[36msinpi\u001b[39m, \u001b[36msincos\u001b[39m, \u001b[36mcis\u001b[39m, \u001b[36masin\u001b[39m.\n\n\u001b[1m  Examples\u001b[22m\n\u001b[1m  ≡≡≡≡≡≡≡≡\u001b[22m\n\n\u001b[36m  julia> round.(sin.(range(0, 2pi, length=9)'), digits=3)\u001b[39m\n\u001b[36m  1×9 Matrix{Float64}:\u001b[39m\n\u001b[36m   0.0  0.707  1.0  0.707  0.0  -0.707  -1.0  -0.707  -0.0\u001b[39m\n\u001b[36m  \u001b[39m\n\u001b[36m  julia> sind(45)\u001b[39m\n\u001b[36m  0.7071067811865476\u001b[39m\n\u001b[36m  \u001b[39m\n\u001b[36m  julia> sinpi(1/4)\u001b[39m\n\u001b[36m  0.7071067811865475\u001b[39m\n\u001b[36m  \u001b[39m\n\u001b[36m  julia> round.(sincos(pi/6), digits=3)\u001b[39m\n\u001b[36m  (0.5, 0.866)\u001b[39m\n\u001b[36m  \u001b[39m\n\u001b[36m  julia> round(cis(pi/6), digits=3)\u001b[39m\n\u001b[36m  0.866 + 0.5im\u001b[39m\n\u001b[36m  \u001b[39m\n\u001b[36m  julia> round(exp(im*pi/6), digits=3)\u001b[39m\n\u001b[36m  0.866 + 0.5im\u001b[39m\n\n\u001b[36m  sin(A::AbstractMatrix)\u001b[39m\n\n  Compute the matrix sine of a square matrix \u001b[36mA\u001b[39m.\n\n  If \u001b[36mA\u001b[39m is symmetric or Hermitian, its eigendecomposition (\u001b[36meigen\u001b[39m) is used to\n  compute the sine. Otherwise, the sine is determined by calling \u001b[36mexp\u001b[39m.\n\n\u001b[1m  Examples\u001b[22m\n\u001b[1m  ≡≡≡≡≡≡≡≡\u001b[22m\n\n\u001b[36m  julia> sin(fill(1.0, (2,2)))\u001b[39m\n\u001b[36m  2×2 Matrix{Float64}:\u001b[39m\n\u001b[36m   0.454649  0.454649\u001b[39m\n\u001b[36m   0.454649  0.454649\u001b[39m\n\n\u001b[36m  sin(::BareInterval)\u001b[39m\n\u001b[36m  sin(::Interval)\u001b[39m\n\n  Implement the \u001b[36msin\u001b[39m function of the IEEE Standard 1788-2015 (Table 9.1).",
      "text/markdown": "```\nsin(x)\n```\n\nCompute sine of `x`, where `x` is in radians.\n\nSee also [`sind`](@ref), [`sinpi`](@ref), [`sincos`](@ref), [`cis`](@ref), [`asin`](@ref).\n\n# Examples\n\n```jldoctest\njulia> round.(sin.(range(0, 2pi, length=9)'), digits=3)\n1×9 Matrix{Float64}:\n 0.0  0.707  1.0  0.707  0.0  -0.707  -1.0  -0.707  -0.0\n\njulia> sind(45)\n0.7071067811865476\n\njulia> sinpi(1/4)\n0.7071067811865475\n\njulia> round.(sincos(pi/6), digits=3)\n(0.5, 0.866)\n\njulia> round(cis(pi/6), digits=3)\n0.866 + 0.5im\n\njulia> round(exp(im*pi/6), digits=3)\n0.866 + 0.5im\n```\n\n```\nsin(A::AbstractMatrix)\n```\n\nCompute the matrix sine of a square matrix `A`.\n\nIf `A` is symmetric or Hermitian, its eigendecomposition ([`eigen`](@ref)) is used to compute the sine. Otherwise, the sine is determined by calling [`exp`](@ref).\n\n# Examples\n\n```jldoctest\njulia> sin(fill(1.0, (2,2)))\n2×2 Matrix{Float64}:\n 0.454649  0.454649\n 0.454649  0.454649\n```\n\n```\nsin(::BareInterval)\nsin(::Interval)\n```\n\nImplement the `sin` function of the IEEE Standard 1788-2015 (Table 9.1).\n"
     },
     "metadata": {},
     "execution_count": 5
    }
   ],
   "cell_type": "code",
   "source": [
    "@doc sin"
   ],
   "metadata": {},
   "execution_count": 5
  },
  {
   "cell_type": "markdown",
   "source": [
    "At the REPL, you can instead do `?sin`. And you can search for all\n",
    "doc-strings referring to \"sine\" with `apropos(\"sine\")`."
   ],
   "metadata": {}
  },
  {
   "cell_type": "markdown",
   "source": [
    "## Arrays"
   ],
   "metadata": {}
  },
  {
   "cell_type": "markdown",
   "source": [
    "One dimensional vectors:"
   ],
   "metadata": {}
  },
  {
   "outputs": [
    {
     "output_type": "execute_result",
     "data": {
      "text/plain": "3-element Vector{Int64}:\n 3\n 5\n 7"
     },
     "metadata": {},
     "execution_count": 6
    }
   ],
   "cell_type": "code",
   "source": [
    "v = [3, 5, 7]"
   ],
   "metadata": {},
   "execution_count": 6
  },
  {
   "outputs": [
    {
     "output_type": "execute_result",
     "data": {
      "text/plain": "3"
     },
     "metadata": {},
     "execution_count": 7
    }
   ],
   "cell_type": "code",
   "source": [
    "length(v)"
   ],
   "metadata": {},
   "execution_count": 7
  },
  {
   "cell_type": "markdown",
   "source": [
    "A \"row vector\" is a 1 x n array:"
   ],
   "metadata": {}
  },
  {
   "outputs": [
    {
     "output_type": "execute_result",
     "data": {
      "text/plain": "1×3 Matrix{Int64}:\n 3  5  7"
     },
     "metadata": {},
     "execution_count": 8
    }
   ],
   "cell_type": "code",
   "source": [
    "row = [3 5 7]"
   ],
   "metadata": {},
   "execution_count": 8
  },
  {
   "cell_type": "markdown",
   "source": [
    "Multiple row vectors separated by semicolons or new lines define matrices:"
   ],
   "metadata": {}
  },
  {
   "outputs": [
    {
     "output_type": "execute_result",
     "data": {
      "text/plain": "3×3 Matrix{Int64}:\n 3  5  7\n 2  4  6\n 1  3  5"
     },
     "metadata": {},
     "execution_count": 9
    }
   ],
   "cell_type": "code",
   "source": [
    "A = [3 5 7\n",
    "     2 4 6\n",
    "     1 3 5]"
   ],
   "metadata": {},
   "execution_count": 9
  },
  {
   "outputs": [
    {
     "output_type": "execute_result",
     "data": {
      "text/plain": "(3, 3)"
     },
     "metadata": {},
     "execution_count": 10
    }
   ],
   "cell_type": "code",
   "source": [
    "size(A)"
   ],
   "metadata": {},
   "execution_count": 10
  },
  {
   "outputs": [
    {
     "output_type": "execute_result",
     "data": {
      "text/plain": "9"
     },
     "metadata": {},
     "execution_count": 11
    }
   ],
   "cell_type": "code",
   "source": [
    "length(A)"
   ],
   "metadata": {},
   "execution_count": 11
  },
  {
   "cell_type": "markdown",
   "source": [
    "Accessing elements (Julia indices start at 1 not 0):"
   ],
   "metadata": {}
  },
  {
   "outputs": [
    {
     "output_type": "execute_result",
     "data": {
      "text/plain": "5"
     },
     "metadata": {},
     "execution_count": 12
    }
   ],
   "cell_type": "code",
   "source": [
    "A[1, 2]"
   ],
   "metadata": {},
   "execution_count": 12
  },
  {
   "cell_type": "markdown",
   "source": [
    "Get the second column:"
   ],
   "metadata": {}
  },
  {
   "outputs": [
    {
     "output_type": "execute_result",
     "data": {
      "text/plain": "3-element Vector{Int64}:\n 5\n 4\n 3"
     },
     "metadata": {},
     "execution_count": 13
    }
   ],
   "cell_type": "code",
   "source": [
    "A[:, 2] # 2nd column"
   ],
   "metadata": {},
   "execution_count": 13
  },
  {
   "cell_type": "markdown",
   "source": [
    "Changing elements:"
   ],
   "metadata": {}
  },
  {
   "outputs": [
    {
     "output_type": "execute_result",
     "data": {
      "text/plain": "42"
     },
     "metadata": {},
     "execution_count": 14
    }
   ],
   "cell_type": "code",
   "source": [
    "A[1, 1] = 42"
   ],
   "metadata": {},
   "execution_count": 14
  },
  {
   "cell_type": "markdown",
   "source": [
    "Matrices can also be indexed as if columns where concatenated into a\n",
    "single vector (which is how they are stored internally):"
   ],
   "metadata": {}
  },
  {
   "outputs": [
    {
     "output_type": "execute_result",
     "data": {
      "text/plain": "true"
     },
     "metadata": {},
     "execution_count": 15
    }
   ],
   "cell_type": "code",
   "source": [
    "A[2, 3] == A[8]"
   ],
   "metadata": {},
   "execution_count": 15
  },
  {
   "outputs": [
    {
     "output_type": "execute_result",
     "data": {
      "text/plain": "3×3 Matrix{Float64}:\n  0.025641   -0.0512821   0.025641\n -0.0512821   2.60256    -3.05128\n  0.025641   -1.55128     2.02564"
     },
     "metadata": {},
     "execution_count": 16
    }
   ],
   "cell_type": "code",
   "source": [
    "inv(A) # inverse"
   ],
   "metadata": {},
   "execution_count": 16
  },
  {
   "outputs": [
    {
     "output_type": "execute_result",
     "data": {
      "text/plain": "true"
     },
     "metadata": {},
     "execution_count": 17
    }
   ],
   "cell_type": "code",
   "source": [
    "isapprox(inv(A)*v, A\\v) # but RHS more efficient"
   ],
   "metadata": {},
   "execution_count": 17
  },
  {
   "cell_type": "markdown",
   "source": [
    "## \"Variables\" in Julia *point* to objects"
   ],
   "metadata": {}
  },
  {
   "cell_type": "markdown",
   "source": [
    "Corollary: all passing of function arguments is pass by reference."
   ],
   "metadata": {}
  },
  {
   "cell_type": "markdown",
   "source": [
    "Like Python; Unlike R, C or FORTRAN."
   ],
   "metadata": {}
  },
  {
   "outputs": [
    {
     "output_type": "execute_result",
     "data": {
      "text/plain": "3-element Vector{Int64}:\n 3\n 5\n 7"
     },
     "metadata": {},
     "execution_count": 18
    }
   ],
   "cell_type": "code",
   "source": [
    "u = [3, 5, 7]\n",
    "\n",
    "w = u"
   ],
   "metadata": {},
   "execution_count": 18
  },
  {
   "outputs": [
    {
     "output_type": "execute_result",
     "data": {
      "text/plain": "3-element Vector{Int64}:\n 3\n 5\n 7"
     },
     "metadata": {},
     "execution_count": 19
    }
   ],
   "cell_type": "code",
   "source": [
    "w"
   ],
   "metadata": {},
   "execution_count": 19
  },
  {
   "outputs": [
    {
     "output_type": "execute_result",
     "data": {
      "text/plain": "42"
     },
     "metadata": {},
     "execution_count": 20
    }
   ],
   "cell_type": "code",
   "source": [
    "u[1] = 42"
   ],
   "metadata": {},
   "execution_count": 20
  },
  {
   "outputs": [
    {
     "output_type": "execute_result",
     "data": {
      "text/plain": "3-element Vector{Int64}:\n 42\n  5\n  7"
     },
     "metadata": {},
     "execution_count": 21
    }
   ],
   "cell_type": "code",
   "source": [
    "u"
   ],
   "metadata": {},
   "execution_count": 21
  },
  {
   "outputs": [
    {
     "output_type": "execute_result",
     "data": {
      "text/plain": "3-element Vector{Int64}:\n 42\n  5\n  7"
     },
     "metadata": {},
     "execution_count": 22
    }
   ],
   "cell_type": "code",
   "source": [
    "w"
   ],
   "metadata": {},
   "execution_count": 22
  },
  {
   "cell_type": "markdown",
   "source": [
    "## Tuples"
   ],
   "metadata": {}
  },
  {
   "cell_type": "markdown",
   "source": [
    "Similar to vectors but of fixed length and immutable (cannot be changed)"
   ],
   "metadata": {}
  },
  {
   "outputs": [
    {
     "output_type": "execute_result",
     "data": {
      "text/plain": "Tuple{Int64, Float64, String}"
     },
     "metadata": {},
     "execution_count": 23
    }
   ],
   "cell_type": "code",
   "source": [
    "t1 = (1, 2.0, \"cat\")\n",
    "typeof(t1)"
   ],
   "metadata": {},
   "execution_count": 23
  },
  {
   "outputs": [
    {
     "output_type": "execute_result",
     "data": {
      "text/plain": "\"cat\""
     },
     "metadata": {},
     "execution_count": 24
    }
   ],
   "cell_type": "code",
   "source": [
    "t1[3]"
   ],
   "metadata": {},
   "execution_count": 24
  },
  {
   "cell_type": "markdown",
   "source": [
    "Tuples also come in a *named* variety:"
   ],
   "metadata": {}
  },
  {
   "outputs": [
    {
     "output_type": "execute_result",
     "data": {
      "text/plain": "(i = 1, x = 2.0, animal = \"cat\")"
     },
     "metadata": {},
     "execution_count": 25
    }
   ],
   "cell_type": "code",
   "source": [
    "t2 = (i = 1, x = 2.0, animal=\"cat\")"
   ],
   "metadata": {},
   "execution_count": 25
  },
  {
   "outputs": [
    {
     "output_type": "execute_result",
     "data": {
      "text/plain": "2.0"
     },
     "metadata": {},
     "execution_count": 26
    }
   ],
   "cell_type": "code",
   "source": [
    "t2.x"
   ],
   "metadata": {},
   "execution_count": 26
  },
  {
   "cell_type": "markdown",
   "source": [
    "## Strings and relatives"
   ],
   "metadata": {}
  },
  {
   "outputs": [
    {
     "output_type": "execute_result",
     "data": {
      "text/plain": ":t"
     },
     "metadata": {},
     "execution_count": 27
    }
   ],
   "cell_type": "code",
   "source": [
    "a_string = \"the cat\"\n",
    "a_character = 't'\n",
    "a_symbol = :t"
   ],
   "metadata": {},
   "execution_count": 27
  },
  {
   "outputs": [
    {
     "output_type": "execute_result",
     "data": {
      "text/plain": "true"
     },
     "metadata": {},
     "execution_count": 28
    }
   ],
   "cell_type": "code",
   "source": [
    "a_string[1] == a_character"
   ],
   "metadata": {},
   "execution_count": 28
  },
  {
   "cell_type": "markdown",
   "source": [
    "A `Symbol` is string-like but\n",
    "[interned](https://en.wikipedia.org/wiki/String_interning). Generally use `String` for\n",
    "ordinary textual data, but use `Symbol` for language reflection (metaprogramming) - for\n",
    "example when referring to the *name* of a variable, as opposed to its value:"
   ],
   "metadata": {}
  },
  {
   "outputs": [
    {
     "output_type": "execute_result",
     "data": {
      "text/plain": "(:i, :x, :animal)"
     },
     "metadata": {},
     "execution_count": 29
    }
   ],
   "cell_type": "code",
   "source": [
    "names = keys(t2)"
   ],
   "metadata": {},
   "execution_count": 29
  },
  {
   "outputs": [
    {
     "output_type": "execute_result",
     "data": {
      "text/plain": "true"
     },
     "metadata": {},
     "execution_count": 30
    }
   ],
   "cell_type": "code",
   "source": [
    ":x in names"
   ],
   "metadata": {},
   "execution_count": 30
  },
  {
   "outputs": [
    {
     "output_type": "execute_result",
     "data": {
      "text/plain": "false"
     },
     "metadata": {},
     "execution_count": 31
    }
   ],
   "cell_type": "code",
   "source": [
    "isdefined(@__MODULE__, :z)"
   ],
   "metadata": {},
   "execution_count": 31
  },
  {
   "outputs": [
    {
     "output_type": "execute_result",
     "data": {
      "text/plain": "1 + 2im"
     },
     "metadata": {},
     "execution_count": 32
    }
   ],
   "cell_type": "code",
   "source": [
    "z = 1 + 2im"
   ],
   "metadata": {},
   "execution_count": 32
  },
  {
   "outputs": [
    {
     "output_type": "execute_result",
     "data": {
      "text/plain": "true"
     },
     "metadata": {},
     "execution_count": 33
    }
   ],
   "cell_type": "code",
   "source": [
    "isdefined(@__MODULE__, :z)"
   ],
   "metadata": {},
   "execution_count": 33
  },
  {
   "cell_type": "markdown",
   "source": [
    "Symbols are generalized by *expressions*:"
   ],
   "metadata": {}
  },
  {
   "outputs": [
    {
     "output_type": "execute_result",
     "data": {
      "text/plain": ":(z == 3)"
     },
     "metadata": {},
     "execution_count": 34
    }
   ],
   "cell_type": "code",
   "source": [
    "ex = :(z == 3)"
   ],
   "metadata": {},
   "execution_count": 34
  },
  {
   "outputs": [
    {
     "output_type": "execute_result",
     "data": {
      "text/plain": "false"
     },
     "metadata": {},
     "execution_count": 35
    }
   ],
   "cell_type": "code",
   "source": [
    "eval(ex)"
   ],
   "metadata": {},
   "execution_count": 35
  },
  {
   "cell_type": "markdown",
   "source": [
    "If this is confusing, forget it for now."
   ],
   "metadata": {}
  },
  {
   "cell_type": "markdown",
   "source": [
    "## Dictionaries"
   ],
   "metadata": {}
  },
  {
   "outputs": [
    {
     "output_type": "execute_result",
     "data": {
      "text/plain": "Dict{Char, String} with 2 entries:\n  'a' => \"ant\"\n  'z' => \"zebra\""
     },
     "metadata": {},
     "execution_count": 36
    }
   ],
   "cell_type": "code",
   "source": [
    "d = Dict('a' => \"ant\", 'z' => \"zebra\")"
   ],
   "metadata": {},
   "execution_count": 36
  },
  {
   "outputs": [
    {
     "output_type": "execute_result",
     "data": {
      "text/plain": "\"ant\""
     },
     "metadata": {},
     "execution_count": 37
    }
   ],
   "cell_type": "code",
   "source": [
    "d['a']"
   ],
   "metadata": {},
   "execution_count": 37
  },
  {
   "outputs": [
    {
     "output_type": "execute_result",
     "data": {
      "text/plain": "Dict{Char, String} with 3 entries:\n  'a' => \"ant\"\n  'z' => \"zebra\"\n  'b' => \"bat\""
     },
     "metadata": {},
     "execution_count": 38
    }
   ],
   "cell_type": "code",
   "source": [
    "d['b'] = \"bat\"\n",
    "d"
   ],
   "metadata": {},
   "execution_count": 38
  },
  {
   "outputs": [
    {
     "output_type": "execute_result",
     "data": {
      "text/plain": "KeySet for a Dict{Char, String} with 3 entries. Keys:\n  'a'\n  'z'\n  'b'"
     },
     "metadata": {},
     "execution_count": 39
    }
   ],
   "cell_type": "code",
   "source": [
    "keys(d)"
   ],
   "metadata": {},
   "execution_count": 39
  },
  {
   "cell_type": "markdown",
   "source": [
    "The expression 'a' => \"ant\" is itself a stand-alone object called a *pair*:"
   ],
   "metadata": {}
  },
  {
   "outputs": [
    {
     "output_type": "execute_result",
     "data": {
      "text/plain": "'a': ASCII/Unicode U+0061 (category Ll: Letter, lowercase)"
     },
     "metadata": {},
     "execution_count": 40
    }
   ],
   "cell_type": "code",
   "source": [
    "pair = 'a' => \"ant\"\n",
    "first(pair)"
   ],
   "metadata": {},
   "execution_count": 40
  },
  {
   "cell_type": "markdown",
   "source": [
    "## Functions"
   ],
   "metadata": {}
  },
  {
   "cell_type": "markdown",
   "source": [
    "Three ways to define a generic function:"
   ],
   "metadata": {}
  },
  {
   "outputs": [
    {
     "output_type": "execute_result",
     "data": {
      "text/plain": "9"
     },
     "metadata": {},
     "execution_count": 41
    }
   ],
   "cell_type": "code",
   "source": [
    "foo(x) = x^2 # METHOD 1 (inline)\n",
    "foo(3)"
   ],
   "metadata": {},
   "execution_count": 41
  },
  {
   "cell_type": "markdown",
   "source": [
    "or"
   ],
   "metadata": {}
  },
  {
   "outputs": [
    {
     "output_type": "execute_result",
     "data": {
      "text/plain": "9"
     },
     "metadata": {},
     "execution_count": 42
    }
   ],
   "cell_type": "code",
   "source": [
    "3 |> foo"
   ],
   "metadata": {},
   "execution_count": 42
  },
  {
   "cell_type": "markdown",
   "source": [
    "or"
   ],
   "metadata": {}
  },
  {
   "outputs": [
    {
     "output_type": "execute_result",
     "data": {
      "text/plain": "9"
     },
     "metadata": {},
     "execution_count": 43
    }
   ],
   "cell_type": "code",
   "source": [
    "3 |> x -> x^2 # METHOD 2 (anonymous)"
   ],
   "metadata": {},
   "execution_count": 43
  },
  {
   "cell_type": "markdown",
   "source": [
    "or"
   ],
   "metadata": {}
  },
  {
   "outputs": [
    {
     "output_type": "execute_result",
     "data": {
      "text/plain": "9"
     },
     "metadata": {},
     "execution_count": 44
    }
   ],
   "cell_type": "code",
   "source": [
    "function foo2(x) # METHOD 3 (verbose)\n",
    "    y = x\n",
    "    z = y\n",
    "    w = z\n",
    "    return w^2\n",
    "end\n",
    "\n",
    "foo2(3)"
   ],
   "metadata": {},
   "execution_count": 44
  },
  {
   "cell_type": "markdown",
   "source": [
    "## Basic iteration"
   ],
   "metadata": {}
  },
  {
   "cell_type": "markdown",
   "source": [
    "Here are four ways to square the integers from 1 to 10."
   ],
   "metadata": {}
  },
  {
   "cell_type": "markdown",
   "source": [
    "METHOD 1 (explicit loop):"
   ],
   "metadata": {}
  },
  {
   "outputs": [
    {
     "output_type": "execute_result",
     "data": {
      "text/plain": "10-element Vector{Any}:\n   1\n   4\n   9\n  16\n  25\n  36\n  49\n  64\n  81\n 100"
     },
     "metadata": {},
     "execution_count": 45
    }
   ],
   "cell_type": "code",
   "source": [
    "squares = [] # or Int[] if performance matters\n",
    "for x in 1:10\n",
    "    push!(squares, x^2)\n",
    "end\n",
    "\n",
    "squares"
   ],
   "metadata": {},
   "execution_count": 45
  },
  {
   "cell_type": "markdown",
   "source": [
    "METHOD 2 (comprehension):"
   ],
   "metadata": {}
  },
  {
   "outputs": [
    {
     "output_type": "execute_result",
     "data": {
      "text/plain": "10-element Vector{Int64}:\n   1\n   4\n   9\n  16\n  25\n  36\n  49\n  64\n  81\n 100"
     },
     "metadata": {},
     "execution_count": 46
    }
   ],
   "cell_type": "code",
   "source": [
    "[x^2 for x in 1:10]"
   ],
   "metadata": {},
   "execution_count": 46
  },
  {
   "cell_type": "markdown",
   "source": [
    "METHOD 3 (map):"
   ],
   "metadata": {}
  },
  {
   "outputs": [
    {
     "output_type": "execute_result",
     "data": {
      "text/plain": "10-element Vector{Int64}:\n   1\n   4\n   9\n  16\n  25\n  36\n  49\n  64\n  81\n 100"
     },
     "metadata": {},
     "execution_count": 47
    }
   ],
   "cell_type": "code",
   "source": [
    "map(x -> x^2, 1:10)"
   ],
   "metadata": {},
   "execution_count": 47
  },
  {
   "cell_type": "markdown",
   "source": [
    "METHOD 4 (broadcasting with dot syntax):"
   ],
   "metadata": {}
  },
  {
   "outputs": [
    {
     "output_type": "execute_result",
     "data": {
      "text/plain": "10-element Vector{Int64}:\n   1\n   4\n   9\n  16\n  25\n  36\n  49\n  64\n  81\n 100"
     },
     "metadata": {},
     "execution_count": 48
    }
   ],
   "cell_type": "code",
   "source": [
    "(1:10) .^ 2"
   ],
   "metadata": {},
   "execution_count": 48
  },
  {
   "cell_type": "markdown",
   "source": [
    "## Random numbers"
   ],
   "metadata": {}
  },
  {
   "outputs": [
    {
     "output_type": "execute_result",
     "data": {
      "text/plain": "Int64"
     },
     "metadata": {},
     "execution_count": 49
    }
   ],
   "cell_type": "code",
   "source": [
    "typeof(2)"
   ],
   "metadata": {},
   "execution_count": 49
  },
  {
   "outputs": [
    {
     "output_type": "execute_result",
     "data": {
      "text/plain": "0.5373161485486371"
     },
     "metadata": {},
     "execution_count": 50
    }
   ],
   "cell_type": "code",
   "source": [
    "rand() # sample a Float64 uniformly from interval [0, 1]"
   ],
   "metadata": {},
   "execution_count": 50
  },
  {
   "outputs": [
    {
     "output_type": "execute_result",
     "data": {
      "text/plain": "3×4 Matrix{Float64}:\n 0.156884  0.965893  0.822031  0.175844\n 0.263368  0.389618  0.341254  0.288944\n 0.545627  0.789382  0.801309  0.207644"
     },
     "metadata": {},
     "execution_count": 51
    }
   ],
   "cell_type": "code",
   "source": [
    "rand(3, 4) # do that 12 times and put in a 3 x 4 array"
   ],
   "metadata": {},
   "execution_count": 51
  },
  {
   "outputs": [
    {
     "output_type": "execute_result",
     "data": {
      "text/plain": "3×4 Matrix{Float64}:\n 0.779817   -0.519889   0.534122   -1.55778\n 0.0072398   1.49424   -0.0276442  -2.16914\n 1.15712     1.28477   -0.260504    0.594076"
     },
     "metadata": {},
     "execution_count": 52
    }
   ],
   "cell_type": "code",
   "source": [
    "randn(3, 4) # use normal distribution instead"
   ],
   "metadata": {},
   "execution_count": 52
  },
  {
   "outputs": [
    {
     "output_type": "execute_result",
     "data": {
      "text/plain": "-80"
     },
     "metadata": {},
     "execution_count": 53
    }
   ],
   "cell_type": "code",
   "source": [
    "rand(Int8) # random elment of type Int8"
   ],
   "metadata": {},
   "execution_count": 53
  },
  {
   "outputs": [
    {
     "output_type": "execute_result",
     "data": {
      "text/plain": "10-element Vector{Char}:\n 'c': ASCII/Unicode U+0063 (category Ll: Letter, lowercase)\n 'b': ASCII/Unicode U+0062 (category Ll: Letter, lowercase)\n 'b': ASCII/Unicode U+0062 (category Ll: Letter, lowercase)\n 'b': ASCII/Unicode U+0062 (category Ll: Letter, lowercase)\n 'c': ASCII/Unicode U+0063 (category Ll: Letter, lowercase)\n 'b': ASCII/Unicode U+0062 (category Ll: Letter, lowercase)\n 'b': ASCII/Unicode U+0062 (category Ll: Letter, lowercase)\n 'b': ASCII/Unicode U+0062 (category Ll: Letter, lowercase)\n 'c': ASCII/Unicode U+0063 (category Ll: Letter, lowercase)\n 'a': ASCII/Unicode U+0061 (category Ll: Letter, lowercase)"
     },
     "metadata": {},
     "execution_count": 54
    }
   ],
   "cell_type": "code",
   "source": [
    "rand(['a', 'b', 'c'], 10) # 10 random elements from a vector"
   ],
   "metadata": {},
   "execution_count": 54
  },
  {
   "cell_type": "markdown",
   "source": [
    "Some standard libraries are needed to do more, for example:"
   ],
   "metadata": {}
  },
  {
   "outputs": [],
   "cell_type": "code",
   "source": [
    "using Random"
   ],
   "metadata": {},
   "execution_count": 55
  },
  {
   "outputs": [
    {
     "output_type": "execute_result",
     "data": {
      "text/plain": "\"ttub5SwnG2VXA0UMwjkc0XRvMxHKn5\""
     },
     "metadata": {},
     "execution_count": 56
    }
   ],
   "cell_type": "code",
   "source": [
    "randstring(30)"
   ],
   "metadata": {},
   "execution_count": 56
  },
  {
   "outputs": [],
   "cell_type": "code",
   "source": [
    "using Statistics"
   ],
   "metadata": {},
   "execution_count": 57
  },
  {
   "outputs": [
    {
     "output_type": "execute_result",
     "data": {
      "text/plain": "0.39534950422987486"
     },
     "metadata": {},
     "execution_count": 58
    }
   ],
   "cell_type": "code",
   "source": [
    "y = rand(30)\n",
    "mean(y)"
   ],
   "metadata": {},
   "execution_count": 58
  },
  {
   "outputs": [
    {
     "output_type": "execute_result",
     "data": {
      "text/plain": "0.6192953665657467"
     },
     "metadata": {},
     "execution_count": 59
    }
   ],
   "cell_type": "code",
   "source": [
    "quantile(y, 0.75)"
   ],
   "metadata": {},
   "execution_count": 59
  },
  {
   "cell_type": "markdown",
   "source": [
    "## Probability distributions"
   ],
   "metadata": {}
  },
  {
   "cell_type": "markdown",
   "source": [
    "For sampling from more general distributions we need\n",
    "Distributions.jl package which is not part of the standard library."
   ],
   "metadata": {}
  },
  {
   "outputs": [],
   "cell_type": "code",
   "source": [
    "using Distributions\n",
    "\n",
    "N = 1000\n",
    "samples = rand(Normal(), N);   # equivalent to Julia's built-in `randn(d)`\n",
    "samples = (samples).^2;        # square element-wise"
   ],
   "metadata": {},
   "execution_count": 60
  },
  {
   "outputs": [
    {
     "output_type": "execute_result",
     "data": {
      "text/plain": "Distributions.Gamma{Float64}(α=0.5148824829610816, θ=2.0240393033364423)"
     },
     "metadata": {},
     "execution_count": 61
    }
   ],
   "cell_type": "code",
   "source": [
    "g = fit(Gamma, samples)"
   ],
   "metadata": {},
   "execution_count": 61
  },
  {
   "outputs": [
    {
     "output_type": "execute_result",
     "data": {
      "text/plain": "1.0421423821126854"
     },
     "metadata": {},
     "execution_count": 62
    }
   ],
   "cell_type": "code",
   "source": [
    "mean(g)"
   ],
   "metadata": {},
   "execution_count": 62
  },
  {
   "outputs": [
    {
     "output_type": "execute_result",
     "data": {
      "text/plain": "0.4863847498413582"
     },
     "metadata": {},
     "execution_count": 63
    }
   ],
   "cell_type": "code",
   "source": [
    "median(g)"
   ],
   "metadata": {},
   "execution_count": 63
  },
  {
   "outputs": [
    {
     "output_type": "execute_result",
     "data": {
      "text/plain": "0.2464039067819249"
     },
     "metadata": {},
     "execution_count": 64
    }
   ],
   "cell_type": "code",
   "source": [
    "pdf(g, 1)"
   ],
   "metadata": {},
   "execution_count": 64
  },
  {
   "outputs": [],
   "cell_type": "code",
   "source": [
    "using PkgOnlineHelp"
   ],
   "metadata": {},
   "execution_count": 65
  },
  {
   "cell_type": "markdown",
   "source": [
    "Uncomment and execute the next line to launch Distribution documentation in your browser:"
   ],
   "metadata": {}
  },
  {
   "outputs": [],
   "cell_type": "code",
   "source": [
    "#@docs Distributions"
   ],
   "metadata": {},
   "execution_count": 66
  },
  {
   "cell_type": "markdown",
   "source": [
    "## Plotting"
   ],
   "metadata": {}
  },
  {
   "outputs": [],
   "cell_type": "code",
   "source": [
    "using CairoMakie\n",
    "CairoMakie.activate!(type = \"png\")"
   ],
   "metadata": {},
   "execution_count": 67
  },
  {
   "outputs": [
    {
     "output_type": "execute_result",
     "data": {
      "text/plain": "Figure()",
      "image/png": "[encoded data removed]",
      "text/html": [
       "<img width=600 height=450 style='object-fit: contain; height: auto;' src=\"data:image/png;base64, iVBORw0KGgoAAAANSUhEUgAABLAAAAOECAIAAAA+D1+tAAAABmJLR0QA/wD/AP+gvaeTAAAgAElEQVR4nOzdaZSc9X3g+39VV1W31IukFtqFBAgwIGHA7DDGYbFjC2zwGAzJie3kEsZLfPFwT5wcz11O5txMcnLs6xAn8ZjEDrFvPBkvzEWZGAyWY1aDsLHBSGwWICS0oqXVm3qtui9KXd0IqdVdVd1PP8/z+Zy8KHU3zU9Jjo+/579lSqVSAAAAIH2yUQ8AAABANAQhAABASglCAACAlBKEAAAAKSUIAQAAUkoQAgAApJQgBAAASClBCAAAkFKCEAAAIKUEIQAAQEoJQgAAgJQShAAAACklCAEAAFJKEAIAAKSUIAQAAEgpQQgAAJBSghAAACClBCEAAEBKCUIAAICUEoQAAAApJQgBAABSShACAACklCAEAABIKUEIAACQUoIQAAAgpQQhAABASglCAACAlBKEAAAAKSUIAQAAUkoQAgAApFQu6gFmhEwmE/UIAAAAR1Eqlabul1shBAAASCkrhKOmtLwna/v27cPDw8uWLWtoaIh6FiAhBgcHd+7cmc/nlyxZEvUsQHJ0dnZ2dHS0tbXNnTs36lkgaaZhJ6MVQgAAgJQShAAAACklCAEAAFJKEAIAAKSUIAQAAEgpQQgAAJBSghAAACClBCEAAEBKCUIAAICUEoQAAAApJQgBAABSShACAACklCAEAABIKUEIAACQUoIQAAAgpQQhAABASglCAACAlBKEAAAAKSUIAQAAUkoQAgAApJQgBAAASClBCAAAkFKCEAAAIKUEIQAAQEoJQgAAgJQShAAAACklCAEAAFJKEAIAAKSUIAQAAEgpQQgAAJBSghAAACClBCEAAEBKCUIAAICUykU9AMfU31/s7R1saCjW+HtyuWyh0FCXkQAAgCQRhDPXD36wtanpQDZb6yruaafNu/LKFXUZCQAASBJbRgEAAFJKEAIAAKSUIAQAAEgpQQgAAJBSghAAACClBCEAAEBKCUIAAICUEoQAAAApJQgBAABSShACAACklCAEAABIKUEIAACQUoIQAAAgpQQhAABASglCAACAlBKEAAAAKSUIAQAAUkoQAgAApJQgBAAASClBCAAAkFKCEAAAIKUEIQAAQEoJQgAAgJQShAAAACklCAEAAFJKEAIAAKSUIAQAAEgpQQgAAJBSghAAACClBCEAAEBKCUIAAICUEoQAAAApJQgBAABSShACAACklCAEAABIKUEIAACQUoIQAAAgpQQhAABASglCAACAlBKEAAAAKSUIAQAAUkoQAgAApFQu6gGYhG0dh3oHhoul0hkLWzKZTNTjAAAA8SYI4+SLD73SP1gMIfzVh9c05QQhAABQE1tG46TQcDgCB4eL0U4CAAAkgCCMk3zD4f97DQyXop0EAABIAEEYJ5UgtEIIAADUThDGST5b2TJqhRAAAKiVIIyTghVCAACgfgRhnIw5QygIAQCAWgnCOMm7ZRQAAKgfQRgnY7aMOkMIAADUShDGiVtGAQCAOhKEcVK5ZdQZQgAAoHaCME7ytowCAAD1IwjjpOBSGQAAoH4EYZyMeXbCCiEAAFArQRgno89OFK0QAgAAtRKEceIMIQAAUEeCME6cIQQAAOpIEMaJM4QAAEAdCcI4KXiYHgAAqB9BGCejl8pYIQQAAGomCOMkb4UQAACoH0EYJ5UVwgHPTgAAADUThHHiDCEAAFBHgjBO3DIKAADUkSCME2cIAQCAOhKEcZLPumUUAACoG0EYJ84QAgAAdSQI42T0llFBCAAA1EwQxklDNpPNhhBCsRiKJbtGAQCAmgjCmHHRKAAAUC+CMGYKDZV7ZewaBQAAaiIIY8YKIQAAUC+CMGYqL08MWSEEAABqIwhjxgohAABQL4IwZjxFCAAA1IsgjJkxK4SCEAAAqIkgjJm8W0YBAIA6EYQxM2bLqDOEAABATQRhzFRuGbVCCAAA1EgQxowzhAAAQL0IwpjJ2zIKAADUiSCMmYJLZQAAgDoRhDHjYXoAAKBeBGHMjD47UbRCCAAA1EQQxowzhAAAQL0IwphxhhAAAKgXQRgzzhACAAD1IghjpjC6ZdQKIQAAUBNBGDO50S2jVggBAICaCMKYsUIIAADUiyCMmcqzEwOenQAAAGojCGPGCiEAAFAvgjBm3DIKAADUiyCMmXz28JbRISuEAABAbQRhzFghBAAA6kUQxowzhAAAQL0IwpgZvWVUEAIAALURhDHTkM1ksyGEUCyGYsmuUQAAoHqCMH4cIwQAAOpCEMZPYWTXqGOEAABALQRh/OSylXtlrBACAADVE4TxY4UQAACoC0EYP84QAgAAdSEI48dThAAAQF0IwvgZs0IoCAEAgOoJwvjJZw+fIRyyZRQAAKiBIIwfK4QAAEBdCML4ccsoAABQF4IwfqwQAgAAdSEI4yff4GF6AACgDgRh/IxuGS1aIQQAAKonCOPHCiEAAFAXgjB+8iMrhM4QAgAAtRCE8WOFEAAAqAtBGD+enQAAAOpCEMaPFUIAAKAuBGH8OEMIAADUhSCMHyuEAABAXQjC+CmMBqEVQgAAoHqCMH5Gt4x6mB4AAKiBIIyfgi2jAABAPQjC+MllbRkFAADqQBDGj3cIAQCAuhCE8VO5ZXTAllEAAKAGgjB+3DIKAADUhSCMHw/TAwAAdSEI46chmylfK1MshmLJrlEAAKBKgjCW8lkvTwAAALUShLFk1ygAAFA7QRhLeW/TAwAANctN579sYGDgjjvuWL169Wc+85kq/vHe3t5169Zt2rSpt7d3xYoV11133amnnlr3IWPBU4QAAEDtpjUI77///q9+9avXXnttFUF477333nrrrfv376985Y477rjtttu+8pWvNDU11XXMGPAUIQAAULvp2zI6NDT0pS99qbp/9oEHHrjxxhv379+fzWYvuuiiD33oQ21tbSGEv//7v//EJz5R1zHjwVOEAABA7aYpCJ955pkbb7zxscceq+Kf7e/vv/XWW4eHh+fOnbtx48YNGzasW7du79691113XQjhu9/97rp16+o970yXy9oyCgAA1Gpqg3DHjh3vfe97ly5det5551Wdbd/+9re3b99e/nDmmWeWv5jP5//5n//55JNPDiF88YtfrNfAcVFwqQwAAFCzqQ3Czs7O9evX79y5s5Zfcu+994YQzjjjjLVr1479ektLy0033RRCeOKJJ958881a/hWxM+YMoRVCAACgSlMbhKtWrXptjIsvvriKX/Loo4+GEK6++uq3f+tDH/pQCKFYLFa3GTW+3DIKAADUbmpvGc3n8yeddFLlj1VcB7p79+6Ojo4Qwpo1a97+3QsvvDCTyZRKpZdffrmGMePHCiEAAFC7mf4w/bZt28ofli9f/vbvFgqFBQsWhBC2bt06rWNFrRKEQ0VnCAEAgCpN6zuEVeju7i5/aGlpOeoPtLS07Nmzp6ura/zfk8lkjvvvmlFVuWvXrgMHDjQ2DmazR4n24cG+8oeDXT379x+n6vfsGZxJfzMgMkNDQ3v27MnlcoODg1HPAiRHd3d354ioZwEmbaavEB46dKj8obGx8ag/UP56b2/v9M00A+RHKnHQCiEAAFCtmb5CWDl2ODAwcNQf6O/vDyEUCoXxf0+pNF44ldcPV6xYUc2IU6OhoWHevL6mptajrhC27RkKoTOE0FBobG9vH/9XLVw4b0b91YCoDA4O5nK5fD6/ZMmSqGcBkqOzs7Ojo6OtrW3u3LlRzwJM2kxfIWxubi5/6OnpOeoPlNcGj7WhNKlGzxB6hxAAAKjWTA/CZcuWlT/s2LHj7d8tn4cJISxdunRax4pafuTZCbeMAgAAVYtBEJZX/1566aW3f3fz5s3FYjGEcOaZZ073ZJEqjKwQDlohBAAAqjXTgzCEcNlll4WR5+mPUPli+WfSwwohAABQuxgE4fXXXx9C2LBhwwsvvHDEt775zW+GEC644IITTzwxgsmik7dCCAAA1GxmBeHnP//5W2655ZZbbjl48GDli5/4xCfKr89/6lOf6uvrq3z9a1/72uOPP17+p6Z/1GiN2TJqhRAAAKjSzHp24v7779+0aVMI4c4775wzZ075i83NzX/zN39z8803P/LII2efffYNN9ywYMGC9evXr1+/PoTwwQ9+8Kabbopy6Cjks4e3jHqHEAAAqNrMCsJj+ehHP9rV1XX77bdv3rz5S1/6UuXrN99889e//vXyK4KpUtky6gwhAABQtWkNwjvvvLOjo2P+/PnH+oG77767/N7g2x9bv/XWW6+77rrvfOc7mzZtOnTo0IoVK66//voLL7xwaieeqfK2jAIAADWb1iA899xzx/+B8QNv0aJFt99+e10niqvCyC2jghAAAKjazLpUhgkas2XUGUIAAKBKgjCW3DIKAADUThDGUm50y6gVQgAAoEqCMJZy2Uw2G0IIw8VSsaQJAQCAagjCuMpnK7tGBSEAAFANQRhX+ZFdo54iBAAAqiMI42rMU4RWCAEAgGoIwrjyFCEAAFAjQRhXzhACAAA1EoRxNeZteiuEAABANQRhXOVtGQUAAGojCOOq4FIZAACgNoIwrmwZBQAAaiQI42r0ltGiFUIAAKAagjCucqNbRq0QAgAA1RCEcVUQhAAAQG0EYVxVbhl1hhAAAKiOIIwrt4wCAAA1EoRxlfMOIQAAUBtBGFdWCAEAgBoJwrhyhhAAAKiRIIwrK4QAAECNBGFcWSEEAABqJAjjKj+yQjhUtEIIAABUQxDGVT5rhRAAAKiJIIwrZwgBAIAaCcK4qmwZtUIIAABURxDGVX50hVAQAgAA1RCEcVUYuWVUEAIAANURhHGVd4YQAACojSCMK+8QAgAANRKEcWWFEAAAqJEgjKtcNpPNhhDCcLFULGlCAABg0gRhjOWzFgkBAIDqCcIYc4wQAACohSCMscoxwiErhAAAwOQJwhjLZ60QAgAA1ROEMVZw0SgAAFADQRhjlS2jVggBAIAqCMIYq1wqMygIAQCAyROEMWbLKAAAUAtBGGOjK4RFK4QAAMCkCcIYG3OG0AohAAAwaYIwxvKjW0atEAIAAJMmCGOsIAgBAIAaCMIYq5wh9OwEAABQBUEYY24ZBQAAaiEIYyznHUIAAKAGgjDGrBACAAC1EIQx5gwhAABQC0EYY1YIAQCAWgjCGMtlR84QFq0QAgAAkyYIY8wKIQAAUAtBGGPOEAIAALUQhDFmhRAAAKiFIIyx/EgQWiEEAACqIAhjrBKEQ4IQAACYPEEYY2POENoyCgAATJogjLExZwitEAIAAJMmCGPMLaMAAEAtBGGM5d0yCgAA1EAQxlgum8lmQwhhuFgqljQhAAAwOYIw3vJZi4QAAECVBGG85UaOEbpXBgAAmCxBGG8FK4QAAEC1BGG8uWgUAAComiCMt4KLRgEAgGoJwnirvDxhhRAAAJgsQRhveZfKAAAA1RKE8Tb6Nn3RllEAAGByBGG8FawQAgAA1RKE8TbmDKEVQgAAYHIEYbyNbhm1QggAAEySIIy3giAEAACqJQjjbcwto7aMAgAAkyMI4807hAAAQNUEYbx5hxAAAKiaIIy3MWcIbRkFAAAmRxDGW2WF0JZRAABgsgRhvOWzIyuERSuEAADA5AjCeHOGEAAAqJogjDdnCAEAgKoJwnhzhhAAAKiaIIw3K4QAAEDVBGG85UaD0AohAAAwOYIw3goulQEAAKolCOMtP7JCOGDLKAAAMEmCMN4KtowCAADVEoTx5pZRAACgaoIw3vJuGQUAAKolCOMtl81kMiGEMFwsFUuaEAAAmARBGHsWCQEAgOoIwtjLe3kCAACoiiCMvULWCiEAAFANQRh7LhoFAACqIwhjr+AMIQAAUBVBGHu5yhnCohVCAABgEgRh7FkhBAAAqiMIY6/y7IQzhAAAwKQIwtgreHYCAACoiiCMvTErhLaMAgAAkyAIYy8/eobQCiEAADAJgjD28raMAgAAVRGEsVe5ZXRgSBACAACTIAhjr7nQUP7QMzAc7SQAAEC8CMLYqwRhtyAEAAAmQxDGXktjrvyhZ2Ao2kkAAIB4EYSx11yoBKEVQgAAYBIEYey1NI5sGe0XhAAAwCQIwtgbc6mMLaMAAMAkCMLYG7tltFSKdhYAACBOBGHs5bKZxnw2hDBcLPV7ihAAAJgwQZgELaMvT9g1CgAATJQgTIIxu0YFIQAAMFGCMAm8TQ8AAFRBECbB6Nv0Xp4AAAAmTBAmgZcnAACAKgjCJGgZOUPobXoAAGDiBGESjFkhFIQAAMBECcIkaB45Q+jZCQAAYOIEYRK0OEMIAABMniBMgubGkSB0hhAAAJgwQZgEo5fKOEMIAABMmCBMAs9OAAAAVRCESdCUa2jIZkIIfYPFoWIp6nEAAIB4EIRJkMmE2SOLhL12jQIAABMjCBOictGolycAAIAJEoQJ0Txyr4y36QEAgAkShAlReXmi28sTAADAxAjChGgZXSG0ZRQAAJgQQZgQoy9P9AtCAABgQgRhQoy5VMaWUQAAYEIEYUI0N7pUBgAAmBxBmBCVW0Y9OwEAAEyQIEyIlsbKGUIrhAAAwIQIwoQYvVTGCiEAADAxgjAhWmwZBQAAJkkQJkRzoSGTCSGEnoHhUinqaQAAgDgQhAnRkM005rIhhGIxHBpyjBAAADg+QZgclYtGHSMEAAAmQhAmR+VteheNAgAAEyEIk6N55OWJbm/TAwAAEyAIk2N0y2i/LaMAAMDxCcLkGPPyhBVCAADg+ARhcox5m14QAgAAxycIk6OlsRKEtowCAADHJwiTo3KGsNsZQgAAYAIEYXI0N9oyCgAATIIgTI7KO4QulQEAACZCECbH6LMTzhACAAATIAiTo2X0HUIrhAAAwPEJwuRoymdz2UwIoX+oOFgsRT0OAAAw0wnCRJld8PIEAAAwUYIwUVoa7RoFAAAmShAmSnPByxMAAMBECcJEGX15wtv0AADA8QjCRPHyBAAAMHGCMFGaG71NDwAATJQgTJTRpwgFIQAAcDyCMFEqK4Q9zhACAADHIwgTpbJCaMsoAABwXIIwUTw7AQAATJwgTJTm0RVCW0YBAIDjEISJ0uIMIQAAMGGCMFGaCw2ZTAgh9A4Ol0qlqMcBAABmNEGYKNlMpinXEEIoFsOhoWLU4wAAADOaIEya0bfp7RoFAADGJQiTpsVFowAAwMQIwqSpXDTa0y8IAQCA8QjCpKmsEHp5AgAAGJ8gTJrmxpEVQltGAQCAcQnCpGm2QggAAEyMIEyalkZnCAEAgAkRhEnTPHrLqBVCAABgPIIwacZcKmOFEAAAGI8gTJrRZyesEAIAAOMShElTuWW02xlCAABgXIIwaUa3jApCAABgXIIwaRpz2VxDJoQwOFwcHC5GPQ4AADBzCcIEqhwjdK8MAAAwDkGYQKMvT9g1CgAAHJsgTKAxL0+4aBQAADgmQZhAXp4AAAAmQhAmUEujLaMAAMDxCcIEah7dMioIAQCAYxKECVR5m96WUQAAYByCMIFaPDsBAABMgCBMIM9OAAAAEyEIE6jy7IQtowAAwDgEYQJVzhB29wtCAADgmARhAo1uGXWGEAAAODZBmEDNhYZMJoQQegeHi6VS1OMAAAAzlCBMoGwmMyvfEEIolcIhi4QAAMAxCMJk8jY9AABwXIIwmRwjBAAAjksQJtOYt+ldNAoAABydIEymyssT3qYHAACORRAmU0ujLaMAAMBxCMJksmUUAAA4LkGYTGMulRGEAADA0QnCZBp9dsIZQgAA4BgEYTK1VC6VcYYQAAA4BkGYTM2Fyi2jtowCAABHJwiTqaWyZdQKIQAAcAyCMJnamnLZbAghHOwbHCqWoh4HAACYiQRhMjVkM3Ma8yGEUim82T0Q9TgAAMBMJAgTq725UP6wu6sv2kkAAICZSRAm1vzZ+fKHXd390U4CAADMTIIwseaPrBDu6bJlFAAAOApBmFjtIyuEu7usEAIAAEchCBNr/uyRM4S2jAIAAEcjCBPLCiEAADA+QZhY7SMrhHu6+0teIgQAAN5GECZWYy7b3NgQQhgcLtk1CgAAvJ0gTLLKMcLXD/RGOwkAADADCcIkqzxF+Pr+Q9FOAgAAzECCMMnamysrhIIQAAA4kiBMsnZbRgEAgGMThElW2TK6tcMKIQAAcCRBmGSjK4TOEAIAAG8jCJOsskK4xZZRAADgbQRhkrU05hpz2RBCZ9/Qwb7BqMcBAABmFkGYcO2VlydcNAoAALyVIEw4xwgBAIBjEYQJN2aF0DFCAADgLQRhws0feZveyxMAAMARBGHCjXmbXhACAABvIQgTrvLyhDOEAADAEQRhws0fXSF0hhAAAHgLQZhwc2blctlMCGF3d3/fUDHqcQAAgBlEECZcNpOZ35wPIZRKYZt7ZQAAgDEEYfItamkqf9jqXhkAAGAMQZh8i1odIwQAAI5CECbfotbG8gcvTwAAAGMJwuRb1Hp4y6ggBAAAxhKEybe4smV0vy2jAADAKEGYfAtbDm8Z3eqWUQAAYAxBmHwLWxozmRBC2NbRN1wsRT0OAAAwUwjC5GvMZRc0N4YQBoeLu7r6ox4HAACYKQRhKqycN6v8wcsTAABAhSBMhTFB6BghAABwmCBMhZXts8sfBCEAAFAhCFNhxdzDK4RbBSEAADBCEKaCM4QAAMDbCcJUWDnPllEAAOBIgjAVVra7VAYAADiSIEyFebPybU25EEJ3/9D+3sGoxwEAAGYEQZgWlXtlHCMEAADKBGFaVI4RumgUAAAoE4RpscLb9AAAwFsJwrTw8gQAAHAEQZgWK60QAgAAbyUI08JThAAAwBEEYVpUniJ0qQwAAFAmCNNicWtjoSEbQtjT3d87MBz1OAAAQPQEYVpkM5nlc5vKn7d1WCQEAAAEYZo4RggAAIwlCFPEyxMAAMBYgjBFvDwBAACMJQhTpLJl1EWjAABAEISpssIKIQAAMIYgTBFnCAEAgLEEYYqsmDcrm8mEELYf7BsqlqIeBwAAiJggTJFCQ3ZRa2MIYahY2nGwL+pxAACAiAnCdHHRKAAAUJGbnn/Nc88998Mf/nDHjh1tbW3nnXfe2rVrC4XCxP/xffv27dy581jfnTVr1qpVq+oxZvKd3D77ydcPhBA27+159yntUY8DAABEacqDsKOj4/d///fvueeesV9cvnz5t7/97SuuuGKCv+TLX/7yn/3Znx3ru+ecc84zzzxT05SpceailvKHTbu7op0EAACI3NRuGR0cHLzhhhvKNbhgwYKPfOQjZ599dgjhjTfeeP/73//0009P8Pf8+te/nsIp02TN4rbyh407O6OdBAAAiNzUrhDeddddDz/8cAjhU5/61Fe/+tVMJhNCePjhh9/3vvcdOnTotttu+8UvfjGR31MOwo997GMf//jH3/7d1tbWuk6dZGuWHP7f1cZdVggBACDtpjAIS6XSF7/4xRDCpZde+td//dflGgwhvOc97/nyl7/82c9+9pe//OX69euvueaa4/6qV155JYRwzTXXTOSHGceq+bObCw09A8PbD/bt7x1sn52PeiIAACAyU7hl9Je//OXWrVtDCJ/73OdyubeU58c+9rF8Ph9CWLdu3XF/z+7du7u6ukIIp59++tRMmiLZTOaMhSPHCC0SAgBAuk1hED7yyCPlD1ddddUR32pra3vPe94z9mfGsXnz5vKHd7zjHXUdMKXWLBk5RrjLMUIAAEi1Kdwy+tJLL4UQFi1atGDBgrd/96KLLlq/fv3mzZtLpVJlN+lRlQ8QLliwIJvN/vmf//nTTz+9a9eu00477Z3vfOdNN920fPnyKZo/qVYvOnyM0AohAACk3BQG4bZt20IIxwq28td7e3v37t171GKsKAfhwMDAKaecsn///vIXH3/88RDCn/zJn/zFX/zFJz/5yfGTkrHcKwMAAJRNYRB2d3eHEFpaWo763crXu7q6xg/C8pbRgwcPNjY2fuQjH7nwwgtzudyzzz77ne98p7Oz89Of/vTw8PAf/MEfjD/MRIqxfOJxhti1a9eBAwcaGwez2Vq39e7ZMzj2bzZveKD84dntHTPqrwxMtaGhoT179uRyucHBwahnAZKju7u7c0TUswCTNoVBeOjQoRBCY2PjUb9b+Xpvb+/4v6e8Qrh48eIHH3yw/Ixh2R//8R9fd911W7Zs+cIXvvChD33oxBNPrM/cSbe0tdDW2NDZP9zRN7ynZ3Bhs4tGAQAgpaYwCJuamkIIAwMDR/1uf39/+UOhUBj/93zjG9/o7+9fuXLlkiVLxn599erVf/u3f3vttdd2dXX90z/90xe+8IVxfkmpVBrnu+X1wxUrVow/yXRqaGiYN6+vqam19hXChQvnHfFXO3vptsdf2x9CONDQdsGK8ZZngSQZHBzM5XL5fP6I/zgFqEVnZ2dHR0dbW9vcuXOjngWYtCm8ZbS5uTmE0NPTc9TvVhYGj7WntOK888675JJLjvpfX9auXbt06dIQwnPPPVfTrCmzZrFjhAAAwFQG4bJly0IIO3bsOOp3t2/fHkLI5XLjHyA8rjPOOCOE8MILL9TyS9Jm9WIXjQIAAFMZhOVnA3fu3Fl+Vv4IL7/8cgjh1FNPLb9QX7XyjkrbnyZldIVwpyAEAID0msIgvPzyy0MIxWKx/ETEWKVSqfzF8s+M45577jnjjDPOOuus3bt3H/UHymuDa9asqcPEqXH2yNv0m3Z3jXu4EgAASLIpDMKLL7548eLFIYS77777iG+tX7/+jTfeCCF8+MMfHv+XXHHFFa+88soLL7zwta997e3fXbduXXnr6aWXXlqfodPhhObCotbGEEJ3/9CWA8e55RUAAEiqKQzCbDZ7xx13hBC+973v3XfffZWvHzhw4HOf+1wIYfXq1R/4wAfG/iOf//znb7nllltuueXgwYPlryxYsKD8M3/6p3967733jv3hRx999DOf+UwI4corrzxuWHIEu0YBAIApfHYihHD77bd/97vfffrpp2+44Ya1a9deeeWVL7300r/8y79s310wFHUAACAASURBVL69UCjcddddR7ypcP/992/atCmEcOedd86ZM6f8xbvuuuvpp5/esWPHhz/84csvv/z8888fHh7euHHjI488UiqV5syZc9ddd03p3yKR1ixu+/Gv94YQNu7q/ODqRVGPAwAARGBqg7Cpqelf//Vfb7nllocffnjdunXr1q0rf/2EE0741re+ddwDhGVLliy57777PvnJT27YsOHxxx8feyJx7dq1d9111/Lly6dk+kRbvfjwax8uGgUAgNSa2iAMISxevPgnP/nJv/3bvz3wwAM7duxoa2s7//zzb7zxxsoC4Fh33313+d3C9vb2sV8/55xznnzyyfXr1z/11FNbtmxpaGh45zvfWX6fcKrnT6o1iw/fK+MpQgAASK0pD8IQQiaTufrqq6+++urj/uSFF144znevueaaa665pn5zpdqaJa2ZTCiVwot7uoeKpVw2E/VEAADAdJvCS2WYyVobcyvmzgoh9A8Vf/1mT9TjAAAAERCE6TVm12hntJMAAACREITptWbJ4Zcn3CsDAADpJAjTa3XlKUJBCAAAqSQI02uNIAQAgHQThOl15qLWhmwmhLB5b8+hweGoxwEAAKabIEyvplz21BOaQwjDxdKLe7qjHgcAAJhugjDV7BoFAIA0E4SpVglCF40CAEAKCcJUG71odKcgBACA1BGEqeZtegAASDNBmGqnLWhuzGVDCFs7DnX2DUU9DgAAMK0EYarlspl3LGgJIZRKjhECAEDqCMK0W7Nk5F6Z3YIQAADSRRCm3WoXjQIAQFoJwrTzFCEAAKSWIEy70YtGd7poFAAA0kUQpt3J7bNbG3MhhF1d/W92D0Q9DgAAMH0EYdplMuHMRS3lz+6VAQCAVBGE2DUKAAApJQgZc9GoFUIAAEgTQUg4e+Qpwme2WyEEAIAUEYSEC06cm81kQghPv3Hw0OBw1OMAAADTRBAS5s3Kn7GwJYQwOFx8+o2DUY8DAABME0FICCFcdtK88oefbtkf7SQAAMC0EYSEEMJlJ7WXP/x0y4FoJwEAAKaNICSEMSuEj7+2v1SKdhYAAGCaCEJCCOH0BS0LWgohhL09A5v39UQ9DgAAMB0EISGEkMmES1aOLhJGOwwAADA9BCGHVY4RPuEYIQAApIMg5DAXjQIAQNoIQg678MS5hYZsCGHT7q79vYNRjwMAAEw5Qchhs/IN5y5rCyGUSmHDVrtGAQAg+QQhoy53jBAAANJEEDLq0pNcNAoAACkiCBl1+cmHVwg3bD0wVPQ+PQAAJJwgZNTStqaV82aFEHoGhn+1ozPqcQAAgKklCHmLyiKhxycAACDxclEPwJTr6Rl8/vm9E/zhk0vZsK8/hHD/49uuam894runnDK3qcn/zwAAQEL4L/fJd+BA32OPdU/whzMdfWH7oRDCho4dj82bc8R3Fy1qFoQAAJAYtozyFsvmNDXlsyGEfT2DBw55nh4AAJJMEPIW2UzmpPbZ5c+v7uuJdhgAAGBKCUKOtGp+c/nDK/t6o50EAACYUoKQI62af3iF8JW9VggBACDJBCFHWjW/OZMJIYRtHX0DQ8WoxwEAAKaKIORITfnskramEMJwsbTlwKGoxwEAAKaKIOQoRneNulcGAACSSxByFJV7ZV51rwwAACSXIOQoVp0wukJYKkU7CwAAMFUEIUexsKWxrSkXQujpH97d3R/1OAAAwJQQhBzdyY4RAgBA0glCjm7Ma4SOEQIAQDIJQo5uzL0yVggBACCZBCFHt7J9dq4hE0LY1dXfMzAc9TgAAED9CUKOLp/NrJw3O4RQKoUX93RFPQ4AAFB/gpBjOnNhS/nDxl2CEAAAEkgQckxnL2ktf9i4s8trhAAAkDyCkGNaOW9Wa1MuhNDZN7St41DU4wAAAHUmCDmmTCazetHIIqFdowAAkDiCkPGsWSIIAQAgsQQh41m9uDWbDSGE1/b39PQPRT0OAABQT4KQ8czON5zc3hxCKBbDpt3dUY8DAADUkyDkONYstmsUAACSSRByHJUg3LSrs+j1CQAASBBByHGcOHfW3Fn5EEJ3//Avtx+MehwAAKBuBCHHkcmEsxa3lD//+OW90Q4DAADUkSDk+Cq7Rn8kCAEAIEEEIce3elFbQzYTQnh2R+furv6oxwEAAOpDEHJ8TfnsqvmzQwjFUHrgpTejHgcAAKgPQciEVHaN3v/inmgnAQAA6kUQMiFrlrSVPzzw4p6hoscnAAAgCQQhE7JsTlN7cz6EcODQ4IbXD0Q9DgAAUAeCkIlavciuUQAASBRByERVdo3e94IgBACAJBCETNSZC1sKDdkQwjM7Dm4/2Bf1OAAAQK0EIRPVmMtesnJuCKFUCj+0axQAAOJPEDIJ15y2oPzBMUIAAEgAQcgkXHP64SD80ctvDg4Xox0GAACokSBkEk5f0HzK/NkhhM6+oce3eHwCAADiTRAyOe8/Y2H5ww+e3x3tJAAAQI1yUQ9AnPz857uWdQyH13tCCN/6Hy++t3FWJpOp4vfMnz/rXe9aVO/pAACAyRGETMKOHd3tg6G1v9TVN7Tn4OCPfr7ztBOaq/g9AwPDIQhCAACImC2jTE42k3nXsjnlz09tdYwQAABiTBAyaRetmFv+8PS2g0PFUrTDAAAAVROETNqq+c3zmwshhJ6B4ed3d0U9DgAAUCVByKRlMuHCEyu7RjuiHQYAAKiaIKQal6ycV/7w7I7O/iEv1AMAQCwJQqqxpK1p2ZymEMLAUPGZ7QejHgcAAKiGIKRKlatlntpm1ygAAMSSIKRKF62YV36U/vndXZ19Q1GPAwAATJogpErts/Or5jeHEIrF8Au7RgEAIIYEIdUb3TXqrlEAAIghQUj1Ljhxbi6bCSG8uq9nb89A1OMAAACTIwipXnOh4azFrSGEUin8zNUyAAAQN4KQmlR2jW54/UC0kwAAAJMlCKnJOUvaGvPZEMLOzv43OvqiHgcAAJgEQUhNCrnsuUvayp+f2mqREAAA4kQQUquLVswrf3hqW0epVIp2GAAAYOIEIbU6a3FLa1MuhHCgd3Dzvt6oxwEAACZKEFKrbCZz/vI55c92jQIAQIwIQuqgctfo09sODhbtGgUAgHgQhNTBKe3NJ7QUQgg9A8M/3+pBQgAAiAdBSB1kMuGKk9vLn3+8eW+0wwAAABMkCKmPd6+aX8hlQwjbDhx61dUyAAAQB4KQ+pidb7jwxMMnCR96ZV+0wwAAABMhCKmbK089ofzh6W0dnX1D0Q4DAAAclyCkbk6c27TqhOYQwlCx9OhrFgkBAGCmE4TU05Wnzi9/eOSV/cPenwAAgJlNEFJP71o2Z+6sfAih49DgMzsORj0OAAAwHkFIPTVkM/9u5P2JhzbbNQoAADOaIKTOrljV3pDNhBBefrPnjYN9UY8DAAAckyCkzuY05c9b1lb+/JBH6gEAYAYThNRf5f2JDVs7egaGox0GAAA4FkFI/Z16QvPKebNCCANDxSe2HIh6HAAA4OgEIVPiilWH35946JW9pZL3JwAAYCYShEyJi1fMbW5sCCG82T2waVd31OMAAABHIQiZEvmG7OUnHX5/4ieulgEAgBlJEDJVfuPUE7LZEELYtLtrd1d/1OMAAABHEoRMlfmz82sWt4UQSqWw/tdvRj0OAABwJEHIFLr6tMPvT/z0tQMHegejHQYAADiCIGQKnbGw5bQFzSGEoWLphy/tiXocAADgLQQhU+vaMxeWPzz26v59FgkBAGAmEYRMrTMXtVYWCR+0SAgAADOJIGTKra0sEr62/8Ahi4QAADBTCEKm3FmLWk89oTmEMDRceuBF140CAMBMIQiZDmvPOrxI+Ohr+zosEgIAwMwgCJkOqxe1rqosEr5kkRAAAGYEQcg0qZwkfPTVfft6BqIdBgAACIKQabNmcevJ7bNDCIPDpf/x3K6oxwEAAAQh0+i6sxaVP9z/wu4dnX3RDgMAAAhCps+aJa0ntc8KIQwMl770k1eiHgcAANJOEDKtrh1ZJPyvP91ikRAAAKIlCJlWZy9uW9k+K4TQN1T8fx6ySAgAAFEShEyrTGb0JOFXH9/y2v7eaOcBAIA0E4RMt7MXt71jYUsIoW+o+Pn/+XzU4wAAQHoJQqZbJhNuu2RFJoRQCvc8u/PBF/cUi6Wq/yfqvw0AAMRYLuoBSKMTsg0XHcxseP1ACOH3/o+H/8/3npbNZKr7VWvXnrJ8eWtdpwMAgLSwQkg0/v3Zixtz2RDCjoN9j722P+pxAAAgjQQh0Zg7K/+bZywof/6XTbt6B4ejnQcAAFJIEBKZ971j4fzmQgihq2/4B8/vjnocAABIHUFIZPLZzL8/e3H5808279vd1R/tPAAAkDaCkChdcOLc0xc0hxCGi6XvPbsz6nEAACBdBCER++i5y7LZEEJ4bmfnxl1dUY8DAAApIgiJ2Ilzmy5b2V7+/L1ndwx7WhAAAKaLICR6N5y9eFa+IYSwq7P/oVf2RT0OAACkhSAkeq2NubVnLSx//tfnd3f3D0U7DwAApIQgZEa46tQTFrYUQgi9A8PfeWZH1OMAAEAqCEJmhFw2c/N5y8qfn9ra8eyOzmjnAQCANBCEzBRrFrdeetK88udv/2J7z8BwtPMAAEDiCUJmkJvPXTpvVj6EcPDQ4PeetXEUAACmliBkBpmVb/jt8w9vHH1iywEbRwEAYEoJQmaWdy5pu3jF3PLn//aL7b2DNo4CAMBUEYTMODefu7StKRdC6Dg0+P1nd0Y9DgAAJJYgZMZpbsz9zvnLy58ff23/pl1d0c4DAABJJQiZic5Z2nbBiXPKn//pF2/0DRWjnQcAABJJEDJD/dZ5y1qbciGE/T2D9/zKjaMAAFB/gpAZqqUxd8u5S8ufH311/4t7uqOdBwAAkkcQMnNdcOLc85a1hRBKpfCPP9vW3T8U9UQAAJAogpAZ7bfftbylsSGEcKB38O6fbSuVoh4IAAASRBAyo7U15X7vohWZTAghbNzZ9eDLe6KeCAAAkkMQMtOtWdz6vncsKH++d+OuzXt7op0HAAASQxASAzesWXzaguYQQrEYvv7kVocJAQCgLgQhMZDNZG69eMXhw4SHBu9+alvJaUIAAKiZICQe5s3Kjx4m3NX14EtvRj0RAADEniAkNtYsbv3NymHCTQ4TAgBArQQhcXK9w4QAAFA/gpA4efthwqLDhAAAUC1BSMwccZjwz3+8OeqJAAAgrgQh8bNmcev7z1hY/vy1n275xoat0c4DAAAxJQiJpetXLzp3WVv586fvee7Hv94b7TwAABBHgpBYymQyv3/xipPaZ4UQBoeLH/3Wz1/a0x31UAAAEDOCkLjKN2Q/c/lJS9qaQgj7ewfXfn3Dm90DUQ8FAABxIgiJsTlN+X+45dzmQkMI4dV9vR/55s/6h4pRDwUAALEhCIm3NYtbv/Px8xuymRDCo6/u/9T3fxX1RAAAEBuCkNi79sxF/+UDZ5Q//+PPtv3Fv3mIAgAAJkQQkgR/fNWp/8tFK8qf/9N9L37v2R3RzgMAALEgCEmI/3rj2b+xan4IoVgq/c63f3n/i3uinggAAGY6QUhCFBqy9/zuhWcuagkhDAwXP/KPP3/4lX1RDwUAADOaICQ52mfnf/TJS0+ZPzuEcGhw+Nqvb3j8tf1RDwUAADOXICRRls1p+smnL1sxb1YIoWdg+LpvPPXL7QejHgoAAGYoQUjSrJg360efvHRRa2MIoePQ4G/+3ZMv7umOeigAAJiJBCEJdPqC5gf+wyXzZuVDCG92D7z3a09s2d8b9VAAADDjCEKS6ZylbffddnFLYy6E8MbBvvfe9eTOzr6ohwIAgJlFEJJYl6yc9//97gWNuWwIYfPeHk0IAABHyEU9ANRkz56egYHisb57Sq7wlave8Qf3bBwqFjcd3H/p//3Q//vb5y2b0/T2nywUssuXt07lpAAAMOMIQuJt48Z9fX1D4//M7y2a9w9PbRsull5/vef6l39yxxWnlK+cGau9venGG98xZWMCAMBMZMsoyXfBiXM/fdnKfEM2hHCgd/CLD72yrcPeUQAAEISkw9lL2m5/98lN+WwIoatv6MsPv/LqPveOAgCQdoKQtDh9QfMd7zmlubEhhNA7MHznI6++sLsr6qEAACBKgpAUOWne7D/8jVVzZuVDCP1Dxb95fMszOzqjHgoAACIjCEmXpW1N/9t7Tim/WT80XPq7J15/8vUDUQ8FAADREISkzuLWxj+8ctWClkIIYbhY+sefbVu3aVepFPVYAAAw7QQhaXRCc+EPr1y1fG5TCKFUCvc9v+evHn21b+iY7xkCAEAiCUJSam5T/o+uPPWdS9vKf3z8tf1XfvWnu7v6o50KAACmkyAkvRpz2U9ftvKq004o//HJ1w9c+pXHnnf1KAAAqSEISbVsJnPzuUt/5/xlDdlMCOG1/b2X/NVj97+4J+q5AABgOghCCO8+Zf4fXXVqS2MuhNDVP3T9P/zsridej3ooAACYcoIQQgjhXcvmPPbZy5fPaQohDA4XP/X9X/3uf3+md2A46rkAAGAKCUI47JylbRv+47vPXz6n/Mdv/mzbZX/92Oa9PdFOBQAAU0cQwqilbU2P/a//7rZLVpT/+OyOznd9+ZHv/2pntFMBAMAUEYTwFk257N/ddM43f+u82YWGEEJX/9BHv/Xzz927cXDYK4UAACSNIISj+PgFyx/77OWnzJ8dQiiVwlcefe2arz25s7Mv6rkAAKCeBCEc3XnL5vz8jiuuPXNR+Y+PvLrv/L989MGX3ox2KgAAqCNBCMc0b1b+f9560Z9+4IzyK4U7O/ve//dPfu7ejYcG3T4KAEASCEIYTyYT/vdrTvvhbRcvam0MI9tHL7zz0We2d0Y9GgAA1EoQwvFdc/qC5/7wN65fs7j8x027ui76q0f/5IGXhoulaAcDAIBaCEKYkAUthXt/78Jv/tZ5LY25EMLgcPE/P/jyu//28Vf2eagQAIC4ykU9AMwIhw4N/uAHrxz3x+aH8Jdnr/jSQ6++tKc7hPDEq93nPLbjP1y68qpTT8hkDv/MuecuXLasdUqnBQCAuhCEEEIIQ0Ol7du7J/jD//FdJ/7g+T33vbi7WAw9Yegvf/DyDxft+J3zl5/QXAghnH56+1ROCgAAdWPLKExaNpP54OpFf3TlqQtbCuWvvLC7+z8/+PKPXn6zWHKqEACA2BCEUKWT22f/X+87/bqzFpUfpRgYKn7/2Z3/Zf2vN+50ASkAAPEgCKF6+YbsB1cv+k9Xn3ZS+6zyV97o6LvpW09/7t6NPQPeKgT4/9u71+ioyjve48/ck8xMrjPJ5EJACCGUkCAIVFAUEVEQkRYFQZeeWk+xN2uVY7tKu85ap9WzpMdeXLW61OWt1nJTUFSoEaXgBRQil0DI3UAmk/tkJpOZZGb2nBfTRhpCAmRPZpL9/bxw7Tx75/GfhJnsX55nPw8AINbxDCEwXDnJcY/dkPdBRcs7Zc3+oBTs9P9526ntH9Q+vGDidZPSLrtbrVY9Y0a6jHUCAAAA/RAIARmoVaolU9KvzE56/XBDebtHOEMNTb5HK458y2a6szg7M9FwGX3Gx2sJhAAAAIgopowCskk3GX62YOL3v51r1GvCLScdXf/ng4qtR+1ePzNIAQAAEHMYIQTkpFKJBRPTpllM75Q1fVzdKkkiKIVKKlo/+7pj2dSMhXlp6r79CgEAAIBoY4QQkF+CTrN6RtavFuXnW43hFk9PcMtX9v+7t6qixRPd2gAAAIA+jBACkZKTHPfI9ZO+POPcdqyxo9svhPi63fv/Pq4uzDSvnJ6ZkxQ3+KeHQqH6enl2sEhONiRe1nOMAAAAGNsIhEBkXTUuuTgrcW9l67vlzT1+SQhxotFd5nDPzElaOd1mNV4wp/n9od27a2WpYe7czOJi1qcBAABAfwRCIOJ0GvWSgvTZuSlvlzkO1ndIkgiFxOEznUcbXAsmpS2dmm428EoEAABAFPAMITBCUhN0980e9+vF+cVZieGWgBTaW9m68f3yd8qaulmGFAAAACOOcQlgRGUlxv1w/oTqVs+bxx1VrR4hhM8v7TrZVFLZsjDPcuNki4nRQgAAAIwUbj2BKJhkMW5YOOlUk3v78cYzHT4hhM8vvX+qeW9l6/wrUm8usCbF6aJdIwAAAMY+AiEQNVMzzL9KN315tvO9U832Tp8Qoicg7a1sPVDbvmBi6tJpNqOWSd0AAACIIAIhEE0qlWr2uOSrcpJKG1zvnmw62+kTQvQGpJKK1n01bd/OTVmcb80ws2MEAAAAIoJACESfSqWamZN0ZXbS0UbXuyeb6ju8Qgh/MLS/pv1Abfv0zMTF+da+Pe4BAAAAuRAIgVihUokZWYnFmYnHHa73TzXXtHcLIUIhcczuOmZ3TUiNX5xvnZmTpFapol0pAAAAxggCIRBbVCpRlJlYlJlY0+7dXd50zO4KhYQQoq7d+/zn9WlG/cK8tHkTUo16TbQrBQAAwKhHIARi1GSrcWLqhCZ3T0lly2d1Tn9QEkK0eXq3HW3ceaJpTm7ydZPSxqfER7tMAAAAjGIEQiCmZZgN62bmrJhm+6S2fW9Vm9PrF0L4g9Inte2f1LaPT4m/dmLq3NwUPeuRAgAA4NIRCIFRwGTQLilIv2Gy5YsznR9Xt37d7g23f93h/fpww84yx7zxqfOvSGU9UgAAAFwSAiEwaug06nkTUuZNSKlr7/6ouu3wGac/GBJCuH3BPadb9pxuybMY51+ROisnycCAIQAAAC4CgRAYfSakJvyP1ITVM7I+q+vYW9na6ukNt1e1eqpaPX8/0lCUZb72itSCdDMrkgIAAGAQBEJgtErQaRZNttyQl3bC4f6ktuN4oysghYQQ/qB0+Ezn4TOdmYmGueNT5oxLjnalAAAAiFEEQmB0U6lU0zMTp2cmunsCB792flLXbu/0hU81unp2HHfsPOHY2tzxPz1T7ijOTDPqo1stAAAAYgqBEBgjzAbtjfmWG/Mtte3dn9S2f3HG6fNLQohQSJQ2dD64/dhDO04sKbCum5lz27SMeB3bGAIAAIBACIw5V6QmXJGacGdxVqnddai+42STWxJCCNEblN4pa3qnrMmo1yz7VsaqosylUzPY4B4AAEDJCITA2KTXqufmJs/NTXb3BFrN6n1uz2d1HeFTnt7glq/sW76yJ+g1txSkryrKXPatDLOBdwMAAADF4RYQGOPMBu2NV2Y+UZxe3eZ5/XDDG6UN5c1d4VPdvcHtxxq3H2uM06qXFKTfXmhbNjXDahrsOcMTJ1plqcpiibfZjLJ0BQAAgMtGIASUYlKa8Tc35f/mpvwTDve2o/btxxpPONzhU76AtPOEY+cJh0atunp8ym3TbLdNy5iSbjq/k08/bZClmKIiK4EQAAAg6giEgOIU2syFtin/e8mU8uaubUcbtx2zH7W7wqeCUuhAbfuB2vb/tetkvtW4otC2dGrG/AkpOg073QMAAIxBBEJAuQrSTRsXT964eHJVq2fHCcc7ZU2f1LUHpVD4bEWLZ9NH1Zs+qg6vX3pzQfqSKenRLRgAAADyIhACY19ZWeuRI02DX5MmxH0J5lWT4o81uksbOk843D2BYPiUW4i3jrS+JcqFEJlGwzSbudBmzrMYGTYEAAAY7QiEwNgXDIb8fulirjSo1bOzk2ZnJwWkUHlz1zG7q8zhbvX09l3Q6OppdPWUVLTqNKqJacaCdFNBumlCarxapYpY+QAAAIgUAiGAAWjVqkKbudBmFkI0uXtOONxlDndFi8cf/Hew9AdDp5u7Tjd37RQiXqfJtxoL0k1T0k1ZiQYV4RAAAGCUIBACGEKG2ZBhNiyabPEHpYoWT5nDfaq5y97p67vA6w8etbvCK9MYDZo8izHfappsMY5LjmPkEAAAIJYRCAFcLJ1GPc1mnmYzCyFcvsCp5q7yZnd5c1e7x993jacneLTBdbTBJYSI06knW0yTLQmTLMbxKfE8cwgAABBrCIQALkdinHZubvLc3GQhRHNXT3lTV3lLV2WLx+UL9F3j80vHG13HG11CCI1aNT4lfmJawqQ040RLQtTqBgAAwDkIhACGK91kSDcZFkxKE0I43D2VLV2VLZ6KFk+H95uRw6AUqmnrrmnrLhGtQghbWcOCypw545Ln5KbMzEky6jVRqx4AAEDBCIQA5GQzG2xmw7UT04QQrZ7eihZPdaunuq3b4faFQt9c5nD3bPnKvuUruxBCq1ZNs5nn5CbPzU25alzyNJtZq+bJQwAAgJFAIAQQKRaj3mLUz5uQIoTwBaTaNk9Va3e901vV6uk+57KAFAqvSfP85/VCCJ1GPdlinJWTNGtc0qyc5KvGJcdpR+LhQ6830NHhG/q6i5CenqAdkZoBAACGiUAIYCTEadVTM8xTM8xCCCkUSshK6E4zHDrTcajeeaqpSzpn9NAflE42uU82uV87fFYIodeoCzPNM7KSirLMxVlJxVmJKfG6SFR49qz7o4/qZenqu9/NT0uLl6UrAACAiCIQAhhpapUq32r69rez1ovxQgh3T+DLM85D9c5D9c7DZ51fd3jPvbg3KB0523nkbGdfy/iU+OL/5MNCmznPYmSKKQAAwOUhEAKIMrNBuzDPsjDPEv6wzdN7pKHzyNnOw2c7j5ztrGn3nPvwoRDi6w7v1x3et8sc4Q8NWvXUDNO0DHNhZmKhzTzNZh6fEs/+hwAAABeDQAggtqQZ9YvzrYvzreEPnV7/V3bXUXtn+DnDMoe7JyCde31PQPqqwfVVg0uIhnBLvE5TkG4qSDdNs5kL0k1TM0yTLUZ2QQQAADgfgRBATEuO110/Ke36SWnhDwNSqLy566jddczuOt7oOtnk7jfFVAjh9QdLGzpLG76ZZarTqCekxE9JN+VbjfnWf/83Oylu5L4MAACAmEQgBDCaaNWqQpu50GZeNzM73OLyBcoc7uMOV5nDfaLRXdbkbnL39Pssf1CqbPVUeIfYDQAAFGJJREFUtnrObTQZtPlWY57FOCnNmGdJiOsKOn3+5LiIrFgDAAAQmwiEAEa3xDjt1RNSrp6Q0tfS4fWfanKfbOoqb+466XCXN3fVdXT3exBRCNHVE/iv5Wo6esWZboNWvTAvbeX0zJEqHwAAIJoIhADGmpR43bwJqfMmpPa19Aals05fmcN9ssld09Zd0959otHlOG8gUQjRE5B42hAAACgHgRDA2KfXqCemJUxMS1g+LaOvsdXTW9niqWrzVLV6qlo9J061VTf1eHqDVpMhiqUCAACMJAIhAIWyGPUWo75vrmllZcdHufXd/qCGLSsAAIBiEAgB4BsJOk20SwAAABg5BEIAURAMSj5fUJau4uKIcAAAAJeJQAggCmprXWVlbbJ0dffd30pIYK8IAACAy8FiegAAAACgUCM0Qnj8+PHdu3fb7fbExMQrr7xy6dKler3+Ujvp7u7euXNnWVlZd3d3bm7urbfempeXF4lqAQAAAEAJIh4InU7n97///e3bt5/bmJOT8/rrry9YsODi+9mxY8f999/f3t7e1/Lwww8/8MADf/7zn+Pi4mQrFwCG7dixFo1GhqVKU1Lipk+3Dr8fGXk8/sOHHbJ0VVCQlp6eIEtXAADgskU2EPr9/ttvv33fvn1CCKvVumDBgoqKiuPHj589e/bmm2/ev3//rFmzLqafPXv2rFq1KhgMqtXqq666ymazffzxxy6X6/nnn+/s7Ny8eXNEvwoAuCR1dZ1+vzT8frKzTbEWCH2+QHl5+9DXXYTMTBOBEACAqItsIHzuuefCaXD9+vXPPPOMSqUSQuzbt++mm27yer0PPPDAkSNHhuykp6fn/vvvDwaDycnJn3766dSpU4UQfr//O9/5zq5du7Zs2bJ27doVK1ZE9AsBELPefrs6FAoNvx+tlmeqAQCA4kQwEIZCoU2bNgkhrr766qefflr1n72er7vuuqeeeurHP/5xaWlpSUnJjTfeOHg/r7/+ekNDQ/ggnAaFEDqd7o033igqKqqtrd20aROBEFAsj6c3GJQhEMbHx9yqy8FgyO3ulbFDv9/v8QS0WnHZ3XZ3+2WsRxahUKirS56qDAaNXj9mdzHp6uqV4y8nQqfTsNcLAIwlEbwBKi0tra+vF0I89NBDWu1//Y/uueeehx9+2O/379y5c8hAuGPHDiFEQUHB0qVLz203mUx33HHHk08++dlnn7W0tFitsTWxCgCGqaPD98Ybp2TpKi5O6/MFgsFgZ2enRqNJSuq4vH50upgbR/X5gnJ9l+bOzSwuTpelqxj01luVXm9g+P1MnpyycGHu8PsBAMSICAbCf/3rX+GDG264od+pxMTE6667rqSkpO+aQezfv18IsWjRovNP3XbbbU8++aQkSQcOHFi5cuWwSwYAQAbl5fJss5maGs+TlgrX2Ojp7PQNvx+tVp2XlzL8fgCMPREMhKdPnxZCZGRkDDh2N2fOnJKSkqqqqlAo1Deb9HxNTU1Op1MIUVhYeP7Z2bNnq1SqUChUUVEhX+EAAAzLv/51VpZ+ioqsBEKFKy9vq6y8zCH9c8XHawmEAAYUwUB45swZIUROTs6AZ8Pt3d3dra2tg8z2DHdyoX70er3Vam1ubg7PTQUA4LKdOeNqa5NhKEZGTU2evXvl+QUXCMiw8q0Qor3dJ1dJc+bYTKZL3pT4fO3tvq++ah5+P0KIGTPSU1PH5l5WgYAk1w8uLy85NzdRlq7kKik31zyG4+6hQ42yPCmdmho3Y8aYnRV/8mSbw+EZfj96veaaa7KH38/oEsFA2NXVJYQwmUwDnu1rd7vdgwTCcCeD99Pc3Ox2uwcvJjU1dciCz56V5w+6snA4HE6n02AIqNXDfWLH69X4fEFZqtLp1LIspq/Xq3t75bk1MRg0PT0yfHU6ncrvl2O9BSF8Po3XK0NJGo1KlrVShKz/BuTi82lleZxJCKFWqyRJhm+UEl4pkiS5XC6NRiNJl9mtjK8Uh0MfHy/DL2+fL9jRIcP4iRDC63XF3ivFHXuvFFdVlTzfJavVn5JiGH4/jY3dX3xhH34/Qgiz2dfdHVtDsi0tLR0dQ9zkXAyNRtXcLM9M5kAgTa3+r/TV1dXV2dnZ1dXVd9t2kb74okaWkrq6kuPiZHg/iU2lpfVOpwwLjNls8RaLnAuVxZQTJ5pqa2V4pcTFaSZMkOfX3CgSwUDo9XqFEAbDwO/1fe3d3d1DdjJkP4N3IoS4mNuFy75DigRJkm64wWK1pms0Y3AxN5VKyLLYnbxdxZ6QEDJsbh6bZP3BjdlvlOyvlEAg0NLSotVqY2EVLp1OLcu7rk4nVq4cP/x+YtPYfqXo9fL8G7BaDXL9G5CrJBnNmpU2Y8bQf9S+CLL9A9BqVf2+S5IkhUIhSZIu9bsn1w9Oq425H5yMFi3KkuWvORpN/x/cWCLXK0Wliq1EMDIiGAjj4uKEEL29A/8poqenJ3yg1w82XSTcyZD9DN6JEKK9fbCdlMPjhxea3RoVKpUqGAxmZ2ePyUAIICr8fn9Cgk6n02VmZka7FgBjh8vlSkhISExMTE5OjnYtAC5ZBAOh0WgUQng8A4/g943pXWgu6LmdDNnP4J0IIVJShp5ZPvzJmTJSq9WhUEitVsdUVQBGNfU5ol0LgLGD9xZgVIvg6zY7O1sIYbcPPK0/vNf8kDOXwp1cqJ9AINDc3CyEyMrKGma1AAAAAKA0EQyEU6ZMEUI0NjYOuOJLeKOIvLw8nU43SCfZ2dnh0b/wJhb9VFVVhaf5Tp06VZaaAQAAAEA5IhgI58+fL4SQJOmTTz7pdyoUCoUbw9cMbt68eeI/29P309cYvgYAAAAAcPEiGAjnzp1rs9mEEC+99FK/UyUlJeE9HlauXDlkPytWrBBCHDx48NSpU/1OvfLKK0KIq666aty4cbLUDAAAAADKEcFAqFarH374YSHE1q1b33vvvb72jo6Ohx56SAgxbdq0W2655dxP2bBhw5o1a9asWdPZ2dnXeO+994afM1y/fr3P982Wwc8++2x4mHHDhg2R+yoAAAAAYKxShSK5iZvP57vmmmsOHz6s0+mWLl26cOHC06dPv/322w0NDXq9fu/evf2mjBYWFpaVlQkhGhsbw6OLYVu2bFm9erUQIi8v7/bbb7darSUlJSUlJaFQaPny5Tt37lSphrW1TvjTI/qtuFQNDQ1sOwFAXn6/v7GxkW0nAMjL5XI5nU62nQAiYQRySmQDoRDC4XCsWbNm37595zZaLJZXX3213/CguHAgFEK8+OKLP/3pT/ttQL969eoXXnhhyD0nhkQgBKAEBEIAkUAgBCJnLARCIUQoFNq7d++ePXvsdntiYuKsWbNWrVqVlJR0/pVffPFFeL/BefPmnb/XfFNT0+bNm8vKyrxeb25u7ooVK2bPni1LhQRCAEpAIAQQCQRCIHLGSCCMfQRCAEpAIAQQCQRCIHJGIKdEcFEZAAAAAEAsIxACAAAAgEIRCAEAAABAoQiEAAAAAKBQBEIAAAAAUCgCIQAAAAAoFIEQAAAAABSKQAgAAAAACkUgBAAAAACFIhACAAAAgEIRCAEAAABAoQiEAAAAAKBQBEIAAAAAUCgCIQAAAAAoFIEQAAAAABSKQAgAAAAACkUgBAAAAACFIhACAAAAgEIRCAEAAABAoQiEAAAAAKBQBEIAAAAAUCgCIQAAAAAoFIEQAAAAABRKG+0CYohKpYp2CQAAAAAwchghBAAAAACFUoVCoWjXgAHYbLampiaHw5GRkRHtWgCMEceOHSsuLi4qKjp69Gi0awEwdvz+97/fsGHDo48+umnTpmjXAuCSMUIIAAAAAApFIAQAAAAAhSIQAgAAAIBCEQgBAAAAQKEIhAAAAACgUARCAAAAAFAoAiEAAAAAKBSBEAAAAAAUikAIAAAAAAqlCoVC0a4BAAAAABAFjBACAAAAgEIRCAEAAABAoQiEAAAAAKBQBEIAAAAAUCgCIQAAAAAoFIEQAAAAABSKQAgAAAAACkUgBAAAAACFIhACAAAAgEIRCAEAAABAobTRLgADOHXqVE1NjUajyc/PnzhxYrTLAQAA+LetW7fabLZrr7128MsaGhpOnTrV3d2dm5tbXFysUqlGpjwAl0oVCoWiXQO+sXfv3p/85CcnT57sa5kzZ85f//rXmTNnRrEqAKOXJEk5OTm9vb0XuuC111675ZZbRrIkAKPX559/fvXVVy9btmzXrl0Xuqaurm79+vX//Oc/+24yc3Nzn3jiibVr145UmQAuASOEMeTNN9+84447JEkSQpjNZr/f7/P5Dh06NG/evA8//HD+/PnRLhDA6FNfX9/Y2DjIBT09PSNWDIDR7tlnnx38gurq6rlz57a1tQkhtFqt2Wzu6Oior69ft26d3W5/9NFHR6RMAJeAQBgrmpub7733XkmSLBbL5s2br7322kAg8N57791zzz1er/fOO++srq6Oi4uLdpkARpnKysrwwS9+8QuNRnP+BVOmTBnZigCMSj09PU8//fQrr7wy+GVr165ta2tTq9XPPPPMXXfdZTKZvvzyy7vvvruysvKxxx678cYbZ8yYMTIFA7hIBMJY8dRTT3V1dWm12h07doQHA3U63Xe/+11Jku6880673f7iiy/+6Ec/inaZAEaZqqoqIURGRsYTTzwR7VoAjD5Op/Mvf/lLWVnZhx9+2NzcPPjFu3fvPnTokBDi8ccf/8EPfhBunDNnzrvvvjt79uzOzs7f/e53W7dujXjRAC4Fq4zGis2bNwshli9f3m9q6B133DFp0iQhxJYtW6JTGYDRLDxCmJ+fH+1CAIxKDodj48aNb7zxxpBpUPznZiY9Pf3nP//5ue2TJ09etWqVEGLXrl1erzdCpQK4PATCmFBVVVVXVyeEuPXWW88/u3z5ciHEp59+ynsogEsVHiFkXiiAy5OZmfnSOQZ/M/nggw+EEEuWLNHpdP1OhW9mfD7fgQMHIlctgMvAlNGY0Les6JVXXnn+2YULF/7xj38MBAJVVVXTp08f2dIAjG7hEcKCgoKOjo7du3dXVFTEx8cXFRXNnDkzPT092tUBiHVJSUn33Xdf34cvv/zy6dOnB7zS7XY3NDSIC9/MhA/Ky8sXL14sf6EALheBMCbU1NSED8aPH3/+2b7G6upqAiGAiydJUvjt5aOPPvrtb3/rdDr7ThkMhl//+tePPfaYVssvAgAyqK6uDh8MeDOTmJiYnJzsdDr7LgMQI5gyGhNcLlf4IDk5+fyzfY2dnZ0jVxOA0a++vj68A+G7777rdrunT5++evXqOXPmxMXF9fT0bNy48ZZbbmE3WgCyGPxmpq+dmxkg1hAIY0J3d7cQQqfTqdUD/ETi4+PDBx6PZ0TLAjDK9e05MX/+/Lq6umPHjv3jH/84ePBgRUXFokWLhBAlJSXPP/98VGsEMEaEb2aEEBfaJSt8P8PNDBBrCIQxITxlKxgMDnjW7/eHD1Qq1cjVBGD0y8zMfOKJJ5588sndu3fn5OT0tY8bN27Hjh3Z2dlCiI0bN0avQABjR9/888HvZ7iZAWINj47EBKPRKISQJMnv95+/MJfP5wsfmEymka4MwGhWWFhYWFg44CmTyfSzn/1sw4YNLS0tDQ0N4XAIAJctfDMjzrlv6Sfczs0MEGsYIYwJVqs1fNDU1HT+WYfDET6wWCwjVxOAsa5vkarjx49HtxIAY8DgNzOhUCi8kyE3M0CsIRDGhL5dffqWGz1XbW1t+KCgoGDkagIw1qWlpYUPDAZDdCsBMAZcccUVer1eXOBmpqGhIbzGFTczQKwhEMaEoqKi8Mz7zz///PyzBw8eFEKkpaUNuI4zAFzII488sn79+m3btg14tqKiInxwoWmlAHDxNBpNcXGxGPRmRggxc+bMES0LwFAIhDEhKSnpmmuuEUJs2bKl36lgMPjmm28KIZYtWzbgGqQAcCF2u/2555577LHHJEk6/+zOnTuFEJmZmX0TvQBgOJYtWyaE+PDDD9va2vqdCt/h5ObmhkMjgNhBwIgVDz74oBDi8OHDmzdvPrf9D3/4g91u77sAAC7eXXfdJYSoqan55S9/2e/U3//+9/D92W9+85soVAZgLPre976n1+t7e3v7LV988ODB7du3CyF++MMfRqk0ABekYkviGBEKhRYsWHDgwAGDwfDII4/ceuutXV1db7/99jPPPCNJ0rp16/72t79Fu0YAo0woFFq5cmV4JHDhwoXr1q3Lysqqq6vbs2dPuHH+/Pn79+9nFXgAF+n666/ft2/fsmXLdu3aNeAFv/rVrx5//HEhxN13371mzRqr1VpSUrJp0yan05mfn19aWpqQkDCyJQMYAoEwhjQ3N998882lpaX92pcsWfLWW2/1bU8PABfP7XYvW7Zs//7955+65557/vSnP6WkpIx8VQBGqSEDoSRJ991332uvvdavfdKkSe+///7kyZMjXyOAS0MgjC29vb0vvPDCtm3bampqNBpNQUHBunXr7rrrLv5+D2A43nvvvVdffbWmpsbhcEycOLGoqGj58uWLFy+Odl0ARpmXX365rq4uPz9/7dq1g1z2zjvvvPTSS2VlZV6vNzc3d8WKFQ8++CA7EAKxiUAIAAAAAArFojIAAAAAoFAEQgAAAABQKAIhAAAAACgUgRAAAAAAFIpACAAAAAAKRSAEAAAAAIUiEAIAAACAQhEIAQAAAEChCIQAAAAAoFAEQgAAAABQKAIhAAAAACgUgRAAAAAAFIpACAAAAAAKRSAEAAAAAIUiEAIAAACAQhEIAQAAAEChCIQAAAAAoFAEQgAAAABQKAIhAAAAACgUgRAAAAAAFIpACAAAAAAKRSAEAAAAAIUiEAIAAACAQhEIAQAAAEChCIQAAAAAoFAEQgAAAABQKAIhAAAAACgUgRAAAAAAFIpACAAAAAAKRSAEAAAAAIUiEAIAAACAQhEIAQAAAEChCIQAAAAAoFAEQgAAAABQqP8PiTzacE7s3MYAAAAASUVORK5CYII=\"/>"
      ]
     },
     "metadata": {},
     "execution_count": 68
    }
   ],
   "cell_type": "code",
   "source": [
    "f(x) = pdf(g, x)\n",
    "\n",
    "xs = 0:0.1:4 # floats from 0 to 4 in steps of 0.1\n",
    "ys = f.(xs)  # apply f element-wise to xs\n",
    "\n",
    "fig = lines(xs, ys)\n",
    "hist!(samples, normalization=:pdf, bins=40, color=(:darkblue, 0.4))\n",
    "current_figure()"
   ],
   "metadata": {},
   "execution_count": 68
  },
  {
   "outputs": [
    {
     "output_type": "execute_result",
     "data": {
      "text/plain": "CairoMakie.Screen{IMAGE}\n"
     },
     "metadata": {},
     "execution_count": 69
    }
   ],
   "cell_type": "code",
   "source": [
    "save(\"my_first_plot.png\", fig)"
   ],
   "metadata": {},
   "execution_count": 69
  },
  {
   "cell_type": "markdown",
   "source": [
    "# Exercises"
   ],
   "metadata": {}
  },
  {
   "cell_type": "markdown",
   "source": [
    "## Exercise 1"
   ],
   "metadata": {}
  },
  {
   "cell_type": "markdown",
   "source": [
    "Write a function named `total` that adds the elements of its vector input."
   ],
   "metadata": {}
  },
  {
   "cell_type": "markdown",
   "source": [
    "## Exercise 2"
   ],
   "metadata": {}
  },
  {
   "cell_type": "markdown",
   "source": [
    "Generate a 1000 random samples from the standard normal\n",
    "distribution. Create a second such sample, and add the two samples\n",
    "point-wise.  Compute the (sample) mean and variance of the combined\n",
    "samples. In the same\n",
    "plot, show a frequency-normalized histogram of the combined samples\n",
    "and a plot of the pdf for normal distribution with zero mean and\n",
    "variance `2`."
   ],
   "metadata": {}
  },
  {
   "cell_type": "markdown",
   "source": [
    "You can use `std` to compute the standard deviation and `sqrt` to\n",
    "compute square roots."
   ],
   "metadata": {}
  },
  {
   "cell_type": "markdown",
   "source": [
    "## Exercise 3"
   ],
   "metadata": {}
  },
  {
   "cell_type": "markdown",
   "source": [
    "The following shows that named tuples share some behaviour with dictionaries:"
   ],
   "metadata": {}
  },
  {
   "outputs": [
    {
     "output_type": "execute_result",
     "data": {
      "text/plain": "(:x, :y, :z)"
     },
     "metadata": {},
     "execution_count": 70
    }
   ],
   "cell_type": "code",
   "source": [
    "t = (x = 1, y = \"cat\", z = 4.5)\n",
    "keys(t)"
   ],
   "metadata": {},
   "execution_count": 70
  },
  {
   "outputs": [
    {
     "output_type": "execute_result",
     "data": {
      "text/plain": "\"cat\""
     },
     "metadata": {},
     "execution_count": 71
    }
   ],
   "cell_type": "code",
   "source": [
    "t[:y]"
   ],
   "metadata": {},
   "execution_count": 71
  },
  {
   "cell_type": "markdown",
   "source": [
    "Write a function called `dict` that converts a named tuple to an\n",
    "actual dictionary. You can create an empty dictionary using `Dict()`."
   ],
   "metadata": {}
  },
  {
   "cell_type": "markdown",
   "source": [
    "---\n",
    "\n",
    "*This notebook was generated using [Literate.jl](https://github.com/fredrikekre/Literate.jl).*"
   ],
   "metadata": {}
  }
 ],
 "nbformat_minor": 3,
 "metadata": {
  "language_info": {
   "file_extension": ".jl",
   "mimetype": "application/julia",
   "name": "julia",
   "version": "1.10.3"
  },
  "kernelspec": {
   "name": "julia-1.10",
   "display_name": "Julia 1.10.3",
   "language": "julia"
  }
 },
 "nbformat": 4
}
