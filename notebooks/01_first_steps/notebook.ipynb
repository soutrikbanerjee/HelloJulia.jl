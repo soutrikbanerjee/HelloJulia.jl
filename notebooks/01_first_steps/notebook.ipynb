{
 "cells": [
  {
   "cell_type": "markdown",
   "source": [
    "# Tutorial 1"
   ],
   "metadata": {}
  },
  {
   "cell_type": "markdown",
   "source": [
    "Notebook from [HelloJulia.jl](https://github.com/ablaom/HelloJulia.jl)"
   ],
   "metadata": {}
  },
  {
   "cell_type": "markdown",
   "source": [
    "Crash course in Julia basics:"
   ],
   "metadata": {}
  },
  {
   "cell_type": "markdown",
   "source": [
    "Arithmetic, arrays, tuples, strings, dictionaries, functions,\n",
    "iteration, random numbers, package loading, plotting"
   ],
   "metadata": {}
  },
  {
   "cell_type": "markdown",
   "source": [
    "(40 min)"
   ],
   "metadata": {}
  },
  {
   "cell_type": "markdown",
   "source": [
    "## Setup"
   ],
   "metadata": {}
  },
  {
   "cell_type": "markdown",
   "source": [
    "The following block of code installs some third-party Julia packges. Beginners do not need\n",
    "to understand it."
   ],
   "metadata": {}
  },
  {
   "outputs": [
    {
     "name": "stdout",
     "output_type": "stream",
     "text": [
      "  Activating project at `~/GoogleDrive/Julia/HelloJulia`\n"
     ]
    }
   ],
   "cell_type": "code",
   "source": [
    "using Pkg\n",
    "Pkg.activate(joinpath(@__DIR__, \"..\", \"..\"))\n",
    "Pkg.instantiate()"
   ],
   "metadata": {},
   "execution_count": 1
  },
  {
   "cell_type": "markdown",
   "source": [
    "## Julia is a calculator:"
   ],
   "metadata": {}
  },
  {
   "outputs": [
    {
     "output_type": "execute_result",
     "data": {
      "text/plain": "9"
     },
     "metadata": {},
     "execution_count": 2
    }
   ],
   "cell_type": "code",
   "source": [
    "1 + 2^3"
   ],
   "metadata": {},
   "execution_count": 2
  },
  {
   "outputs": [
    {
     "output_type": "execute_result",
     "data": {
      "text/plain": "3.0"
     },
     "metadata": {},
     "execution_count": 3
    }
   ],
   "cell_type": "code",
   "source": [
    "sqrt(1 + 2^3) # do `sqrt(ans)` in REPL"
   ],
   "metadata": {},
   "execution_count": 3
  },
  {
   "outputs": [
    {
     "output_type": "execute_result",
     "data": {
      "text/plain": "0.0"
     },
     "metadata": {},
     "execution_count": 4
    }
   ],
   "cell_type": "code",
   "source": [
    "sin(pi)"
   ],
   "metadata": {},
   "execution_count": 4
  },
  {
   "cell_type": "markdown",
   "source": [
    "Query a function's document:"
   ],
   "metadata": {}
  },
  {
   "outputs": [
    {
     "output_type": "execute_result",
     "data": {
      "text/plain": "\u001b[36m  sin(x)\u001b[39m\n\n  Compute sine of \u001b[36mx\u001b[39m, where \u001b[36mx\u001b[39m is in radians.\n\n  See also \u001b[36msind\u001b[39m, \u001b[36msinpi\u001b[39m, \u001b[36msincos\u001b[39m, \u001b[36mcis\u001b[39m, \u001b[36masin\u001b[39m.\n\n\u001b[1m  Examples\u001b[22m\n\u001b[1m  ≡≡≡≡≡≡≡≡\u001b[22m\n\n\u001b[36m  julia> round.(sin.(range(0, 2pi, length=9)'), digits=3)\u001b[39m\n\u001b[36m  1×9 Matrix{Float64}:\u001b[39m\n\u001b[36m   0.0  0.707  1.0  0.707  0.0  -0.707  -1.0  -0.707  -0.0\u001b[39m\n\u001b[36m  \u001b[39m\n\u001b[36m  julia> sind(45)\u001b[39m\n\u001b[36m  0.7071067811865476\u001b[39m\n\u001b[36m  \u001b[39m\n\u001b[36m  julia> sinpi(1/4)\u001b[39m\n\u001b[36m  0.7071067811865475\u001b[39m\n\u001b[36m  \u001b[39m\n\u001b[36m  julia> round.(sincos(pi/6), digits=3)\u001b[39m\n\u001b[36m  (0.5, 0.866)\u001b[39m\n\u001b[36m  \u001b[39m\n\u001b[36m  julia> round(cis(pi/6), digits=3)\u001b[39m\n\u001b[36m  0.866 + 0.5im\u001b[39m\n\u001b[36m  \u001b[39m\n\u001b[36m  julia> round(exp(im*pi/6), digits=3)\u001b[39m\n\u001b[36m  0.866 + 0.5im\u001b[39m\n\n\u001b[36m  sin(A::AbstractMatrix)\u001b[39m\n\n  Compute the matrix sine of a square matrix \u001b[36mA\u001b[39m.\n\n  If \u001b[36mA\u001b[39m is symmetric or Hermitian, its eigendecomposition (\u001b[36meigen\u001b[39m) is used to\n  compute the sine. Otherwise, the sine is determined by calling \u001b[36mexp\u001b[39m.\n\n\u001b[1m  Examples\u001b[22m\n\u001b[1m  ≡≡≡≡≡≡≡≡\u001b[22m\n\n\u001b[36m  julia> sin(fill(1.0, (2,2)))\u001b[39m\n\u001b[36m  2×2 Matrix{Float64}:\u001b[39m\n\u001b[36m   0.454649  0.454649\u001b[39m\n\u001b[36m   0.454649  0.454649\u001b[39m\n\n\u001b[36m  sin(::BareInterval)\u001b[39m\n\u001b[36m  sin(::Interval)\u001b[39m\n\n  Implement the \u001b[36msin\u001b[39m function of the IEEE Standard 1788-2015 (Table 9.1).",
      "text/markdown": "```\nsin(x)\n```\n\nCompute sine of `x`, where `x` is in radians.\n\nSee also [`sind`](@ref), [`sinpi`](@ref), [`sincos`](@ref), [`cis`](@ref), [`asin`](@ref).\n\n# Examples\n\n```jldoctest\njulia> round.(sin.(range(0, 2pi, length=9)'), digits=3)\n1×9 Matrix{Float64}:\n 0.0  0.707  1.0  0.707  0.0  -0.707  -1.0  -0.707  -0.0\n\njulia> sind(45)\n0.7071067811865476\n\njulia> sinpi(1/4)\n0.7071067811865475\n\njulia> round.(sincos(pi/6), digits=3)\n(0.5, 0.866)\n\njulia> round(cis(pi/6), digits=3)\n0.866 + 0.5im\n\njulia> round(exp(im*pi/6), digits=3)\n0.866 + 0.5im\n```\n\n```\nsin(A::AbstractMatrix)\n```\n\nCompute the matrix sine of a square matrix `A`.\n\nIf `A` is symmetric or Hermitian, its eigendecomposition ([`eigen`](@ref)) is used to compute the sine. Otherwise, the sine is determined by calling [`exp`](@ref).\n\n# Examples\n\n```jldoctest\njulia> sin(fill(1.0, (2,2)))\n2×2 Matrix{Float64}:\n 0.454649  0.454649\n 0.454649  0.454649\n```\n\n```\nsin(::BareInterval)\nsin(::Interval)\n```\n\nImplement the `sin` function of the IEEE Standard 1788-2015 (Table 9.1).\n"
     },
     "metadata": {},
     "execution_count": 5
    }
   ],
   "cell_type": "code",
   "source": [
    "@doc sin"
   ],
   "metadata": {},
   "execution_count": 5
  },
  {
   "cell_type": "markdown",
   "source": [
    "At the REPL, you can instead do `?sin`. And you can search for all\n",
    "doc-strings referring to \"sine\" with `apropos(\"sine\")`."
   ],
   "metadata": {}
  },
  {
   "cell_type": "markdown",
   "source": [
    "## Arrays"
   ],
   "metadata": {}
  },
  {
   "cell_type": "markdown",
   "source": [
    "One dimensional vectors:"
   ],
   "metadata": {}
  },
  {
   "outputs": [
    {
     "output_type": "execute_result",
     "data": {
      "text/plain": "3-element Vector{Int64}:\n 3\n 5\n 7"
     },
     "metadata": {},
     "execution_count": 6
    }
   ],
   "cell_type": "code",
   "source": [
    "v = [3, 5, 7]"
   ],
   "metadata": {},
   "execution_count": 6
  },
  {
   "outputs": [
    {
     "output_type": "execute_result",
     "data": {
      "text/plain": "3"
     },
     "metadata": {},
     "execution_count": 7
    }
   ],
   "cell_type": "code",
   "source": [
    "length(v)"
   ],
   "metadata": {},
   "execution_count": 7
  },
  {
   "cell_type": "markdown",
   "source": [
    "A \"row vector\" is a 1 x n array:"
   ],
   "metadata": {}
  },
  {
   "outputs": [
    {
     "output_type": "execute_result",
     "data": {
      "text/plain": "1×3 Matrix{Int64}:\n 3  5  7"
     },
     "metadata": {},
     "execution_count": 8
    }
   ],
   "cell_type": "code",
   "source": [
    "row = [3 5 7]"
   ],
   "metadata": {},
   "execution_count": 8
  },
  {
   "cell_type": "markdown",
   "source": [
    "Multiple row vectors separated by semicolons or new lines define matrices:"
   ],
   "metadata": {}
  },
  {
   "outputs": [
    {
     "output_type": "execute_result",
     "data": {
      "text/plain": "3×3 Matrix{Int64}:\n 3  5  7\n 2  4  6\n 1  3  5"
     },
     "metadata": {},
     "execution_count": 9
    }
   ],
   "cell_type": "code",
   "source": [
    "A = [3 5 7\n",
    "     2 4 6\n",
    "     1 3 5]"
   ],
   "metadata": {},
   "execution_count": 9
  },
  {
   "outputs": [
    {
     "output_type": "execute_result",
     "data": {
      "text/plain": "(3, 3)"
     },
     "metadata": {},
     "execution_count": 10
    }
   ],
   "cell_type": "code",
   "source": [
    "size(A)"
   ],
   "metadata": {},
   "execution_count": 10
  },
  {
   "outputs": [
    {
     "output_type": "execute_result",
     "data": {
      "text/plain": "9"
     },
     "metadata": {},
     "execution_count": 11
    }
   ],
   "cell_type": "code",
   "source": [
    "length(A)"
   ],
   "metadata": {},
   "execution_count": 11
  },
  {
   "cell_type": "markdown",
   "source": [
    "Accessing elements (Julia indices start at 1 not 0):"
   ],
   "metadata": {}
  },
  {
   "outputs": [
    {
     "output_type": "execute_result",
     "data": {
      "text/plain": "5"
     },
     "metadata": {},
     "execution_count": 12
    }
   ],
   "cell_type": "code",
   "source": [
    "A[1, 2]"
   ],
   "metadata": {},
   "execution_count": 12
  },
  {
   "cell_type": "markdown",
   "source": [
    "Get the second column:"
   ],
   "metadata": {}
  },
  {
   "outputs": [
    {
     "output_type": "execute_result",
     "data": {
      "text/plain": "3-element Vector{Int64}:\n 5\n 4\n 3"
     },
     "metadata": {},
     "execution_count": 13
    }
   ],
   "cell_type": "code",
   "source": [
    "A[:, 2] # 2nd column"
   ],
   "metadata": {},
   "execution_count": 13
  },
  {
   "cell_type": "markdown",
   "source": [
    "Changing elements:"
   ],
   "metadata": {}
  },
  {
   "outputs": [
    {
     "output_type": "execute_result",
     "data": {
      "text/plain": "42"
     },
     "metadata": {},
     "execution_count": 14
    }
   ],
   "cell_type": "code",
   "source": [
    "A[1, 1] = 42"
   ],
   "metadata": {},
   "execution_count": 14
  },
  {
   "cell_type": "markdown",
   "source": [
    "Matrices can also be indexed as if columns where concatenated into a\n",
    "single vector (which is how they are stored internally):"
   ],
   "metadata": {}
  },
  {
   "outputs": [
    {
     "output_type": "execute_result",
     "data": {
      "text/plain": "true"
     },
     "metadata": {},
     "execution_count": 15
    }
   ],
   "cell_type": "code",
   "source": [
    "A[2, 3] == A[8]"
   ],
   "metadata": {},
   "execution_count": 15
  },
  {
   "outputs": [
    {
     "output_type": "execute_result",
     "data": {
      "text/plain": "3×3 Matrix{Float64}:\n  0.025641   -0.0512821   0.025641\n -0.0512821   2.60256    -3.05128\n  0.025641   -1.55128     2.02564"
     },
     "metadata": {},
     "execution_count": 16
    }
   ],
   "cell_type": "code",
   "source": [
    "inv(A) # inverse"
   ],
   "metadata": {},
   "execution_count": 16
  },
  {
   "outputs": [
    {
     "output_type": "execute_result",
     "data": {
      "text/plain": "true"
     },
     "metadata": {},
     "execution_count": 17
    }
   ],
   "cell_type": "code",
   "source": [
    "isapprox(inv(A)*v, A\\v) # but RHS more efficient"
   ],
   "metadata": {},
   "execution_count": 17
  },
  {
   "cell_type": "markdown",
   "source": [
    "## \"Variables\" in Julia *point* to objects"
   ],
   "metadata": {}
  },
  {
   "cell_type": "markdown",
   "source": [
    "Corollary: all passing of function arguments is pass by reference."
   ],
   "metadata": {}
  },
  {
   "cell_type": "markdown",
   "source": [
    "Like Python; Unlike R, C or FORTRAN."
   ],
   "metadata": {}
  },
  {
   "outputs": [
    {
     "output_type": "execute_result",
     "data": {
      "text/plain": "3-element Vector{Int64}:\n 3\n 5\n 7"
     },
     "metadata": {},
     "execution_count": 18
    }
   ],
   "cell_type": "code",
   "source": [
    "u = [3, 5, 7]\n",
    "\n",
    "w = u"
   ],
   "metadata": {},
   "execution_count": 18
  },
  {
   "outputs": [
    {
     "output_type": "execute_result",
     "data": {
      "text/plain": "3-element Vector{Int64}:\n 3\n 5\n 7"
     },
     "metadata": {},
     "execution_count": 19
    }
   ],
   "cell_type": "code",
   "source": [
    "w"
   ],
   "metadata": {},
   "execution_count": 19
  },
  {
   "outputs": [
    {
     "output_type": "execute_result",
     "data": {
      "text/plain": "42"
     },
     "metadata": {},
     "execution_count": 20
    }
   ],
   "cell_type": "code",
   "source": [
    "u[1] = 42"
   ],
   "metadata": {},
   "execution_count": 20
  },
  {
   "outputs": [
    {
     "output_type": "execute_result",
     "data": {
      "text/plain": "3-element Vector{Int64}:\n 42\n  5\n  7"
     },
     "metadata": {},
     "execution_count": 21
    }
   ],
   "cell_type": "code",
   "source": [
    "u"
   ],
   "metadata": {},
   "execution_count": 21
  },
  {
   "outputs": [
    {
     "output_type": "execute_result",
     "data": {
      "text/plain": "3-element Vector{Int64}:\n 42\n  5\n  7"
     },
     "metadata": {},
     "execution_count": 22
    }
   ],
   "cell_type": "code",
   "source": [
    "w"
   ],
   "metadata": {},
   "execution_count": 22
  },
  {
   "cell_type": "markdown",
   "source": [
    "## Tuples"
   ],
   "metadata": {}
  },
  {
   "cell_type": "markdown",
   "source": [
    "Similar to vectors but of fixed length and immutable (cannot be changed)"
   ],
   "metadata": {}
  },
  {
   "outputs": [
    {
     "output_type": "execute_result",
     "data": {
      "text/plain": "Tuple{Int64, Float64, String}"
     },
     "metadata": {},
     "execution_count": 23
    }
   ],
   "cell_type": "code",
   "source": [
    "t1 = (1, 2.0, \"cat\")\n",
    "typeof(t1)"
   ],
   "metadata": {},
   "execution_count": 23
  },
  {
   "outputs": [
    {
     "output_type": "execute_result",
     "data": {
      "text/plain": "\"cat\""
     },
     "metadata": {},
     "execution_count": 24
    }
   ],
   "cell_type": "code",
   "source": [
    "t1[3]"
   ],
   "metadata": {},
   "execution_count": 24
  },
  {
   "cell_type": "markdown",
   "source": [
    "Tuples also come in a *named* variety:"
   ],
   "metadata": {}
  },
  {
   "outputs": [
    {
     "output_type": "execute_result",
     "data": {
      "text/plain": "(i = 1, x = 2.0, animal = \"cat\")"
     },
     "metadata": {},
     "execution_count": 25
    }
   ],
   "cell_type": "code",
   "source": [
    "t2 = (i = 1, x = 2.0, animal=\"cat\")"
   ],
   "metadata": {},
   "execution_count": 25
  },
  {
   "outputs": [
    {
     "output_type": "execute_result",
     "data": {
      "text/plain": "2.0"
     },
     "metadata": {},
     "execution_count": 26
    }
   ],
   "cell_type": "code",
   "source": [
    "t2.x"
   ],
   "metadata": {},
   "execution_count": 26
  },
  {
   "cell_type": "markdown",
   "source": [
    "## Strings and relatives"
   ],
   "metadata": {}
  },
  {
   "outputs": [
    {
     "output_type": "execute_result",
     "data": {
      "text/plain": ":t"
     },
     "metadata": {},
     "execution_count": 27
    }
   ],
   "cell_type": "code",
   "source": [
    "a_string = \"the cat\"\n",
    "a_character = 't'\n",
    "a_symbol = :t"
   ],
   "metadata": {},
   "execution_count": 27
  },
  {
   "outputs": [
    {
     "output_type": "execute_result",
     "data": {
      "text/plain": "true"
     },
     "metadata": {},
     "execution_count": 28
    }
   ],
   "cell_type": "code",
   "source": [
    "a_string[1] == a_character"
   ],
   "metadata": {},
   "execution_count": 28
  },
  {
   "cell_type": "markdown",
   "source": [
    "A `Symbol` is string-like but\n",
    "[interned](https://en.wikipedia.org/wiki/String_interning). Generally use `String` for\n",
    "ordinary textual data, but use `Symbol` for language reflection (metaprogramming) - for\n",
    "example when referring to the *name* of a variable, as opposed to its value:"
   ],
   "metadata": {}
  },
  {
   "outputs": [
    {
     "output_type": "execute_result",
     "data": {
      "text/plain": "(:i, :x, :animal)"
     },
     "metadata": {},
     "execution_count": 29
    }
   ],
   "cell_type": "code",
   "source": [
    "names = keys(t2)"
   ],
   "metadata": {},
   "execution_count": 29
  },
  {
   "outputs": [
    {
     "output_type": "execute_result",
     "data": {
      "text/plain": "true"
     },
     "metadata": {},
     "execution_count": 30
    }
   ],
   "cell_type": "code",
   "source": [
    ":x in names"
   ],
   "metadata": {},
   "execution_count": 30
  },
  {
   "outputs": [
    {
     "output_type": "execute_result",
     "data": {
      "text/plain": "false"
     },
     "metadata": {},
     "execution_count": 31
    }
   ],
   "cell_type": "code",
   "source": [
    "isdefined(@__MODULE__, :z)"
   ],
   "metadata": {},
   "execution_count": 31
  },
  {
   "outputs": [
    {
     "output_type": "execute_result",
     "data": {
      "text/plain": "1 + 2im"
     },
     "metadata": {},
     "execution_count": 32
    }
   ],
   "cell_type": "code",
   "source": [
    "z = 1 + 2im"
   ],
   "metadata": {},
   "execution_count": 32
  },
  {
   "outputs": [
    {
     "output_type": "execute_result",
     "data": {
      "text/plain": "true"
     },
     "metadata": {},
     "execution_count": 33
    }
   ],
   "cell_type": "code",
   "source": [
    "isdefined(@__MODULE__, :z)"
   ],
   "metadata": {},
   "execution_count": 33
  },
  {
   "cell_type": "markdown",
   "source": [
    "Symbols are generalized by *expressions*:"
   ],
   "metadata": {}
  },
  {
   "outputs": [
    {
     "output_type": "execute_result",
     "data": {
      "text/plain": ":(z == 3)"
     },
     "metadata": {},
     "execution_count": 34
    }
   ],
   "cell_type": "code",
   "source": [
    "ex = :(z == 3)"
   ],
   "metadata": {},
   "execution_count": 34
  },
  {
   "outputs": [
    {
     "output_type": "execute_result",
     "data": {
      "text/plain": "false"
     },
     "metadata": {},
     "execution_count": 35
    }
   ],
   "cell_type": "code",
   "source": [
    "eval(ex)"
   ],
   "metadata": {},
   "execution_count": 35
  },
  {
   "cell_type": "markdown",
   "source": [
    "If this is confusing, forget it for now."
   ],
   "metadata": {}
  },
  {
   "cell_type": "markdown",
   "source": [
    "## Dictionaries"
   ],
   "metadata": {}
  },
  {
   "outputs": [
    {
     "output_type": "execute_result",
     "data": {
      "text/plain": "Dict{Char, String} with 2 entries:\n  'a' => \"ant\"\n  'z' => \"zebra\""
     },
     "metadata": {},
     "execution_count": 36
    }
   ],
   "cell_type": "code",
   "source": [
    "d = Dict('a' => \"ant\", 'z' => \"zebra\")"
   ],
   "metadata": {},
   "execution_count": 36
  },
  {
   "outputs": [
    {
     "output_type": "execute_result",
     "data": {
      "text/plain": "\"ant\""
     },
     "metadata": {},
     "execution_count": 37
    }
   ],
   "cell_type": "code",
   "source": [
    "d['a']"
   ],
   "metadata": {},
   "execution_count": 37
  },
  {
   "outputs": [
    {
     "output_type": "execute_result",
     "data": {
      "text/plain": "Dict{Char, String} with 3 entries:\n  'a' => \"ant\"\n  'z' => \"zebra\"\n  'b' => \"bat\""
     },
     "metadata": {},
     "execution_count": 38
    }
   ],
   "cell_type": "code",
   "source": [
    "d['b'] = \"bat\"\n",
    "d"
   ],
   "metadata": {},
   "execution_count": 38
  },
  {
   "outputs": [
    {
     "output_type": "execute_result",
     "data": {
      "text/plain": "KeySet for a Dict{Char, String} with 3 entries. Keys:\n  'a'\n  'z'\n  'b'"
     },
     "metadata": {},
     "execution_count": 39
    }
   ],
   "cell_type": "code",
   "source": [
    "keys(d)"
   ],
   "metadata": {},
   "execution_count": 39
  },
  {
   "cell_type": "markdown",
   "source": [
    "The expression 'a' => \"ant\" is itself a stand-alone object called a *pair*:"
   ],
   "metadata": {}
  },
  {
   "outputs": [
    {
     "output_type": "execute_result",
     "data": {
      "text/plain": "'a': ASCII/Unicode U+0061 (category Ll: Letter, lowercase)"
     },
     "metadata": {},
     "execution_count": 40
    }
   ],
   "cell_type": "code",
   "source": [
    "pair = 'a' => \"ant\"\n",
    "first(pair)"
   ],
   "metadata": {},
   "execution_count": 40
  },
  {
   "cell_type": "markdown",
   "source": [
    "## Functions"
   ],
   "metadata": {}
  },
  {
   "cell_type": "markdown",
   "source": [
    "Three ways to define a generic function:"
   ],
   "metadata": {}
  },
  {
   "outputs": [
    {
     "output_type": "execute_result",
     "data": {
      "text/plain": "9"
     },
     "metadata": {},
     "execution_count": 41
    }
   ],
   "cell_type": "code",
   "source": [
    "foo(x) = x^2 # METHOD 1 (inline)\n",
    "foo(3)"
   ],
   "metadata": {},
   "execution_count": 41
  },
  {
   "cell_type": "markdown",
   "source": [
    "or"
   ],
   "metadata": {}
  },
  {
   "outputs": [
    {
     "output_type": "execute_result",
     "data": {
      "text/plain": "9"
     },
     "metadata": {},
     "execution_count": 42
    }
   ],
   "cell_type": "code",
   "source": [
    "3 |> foo"
   ],
   "metadata": {},
   "execution_count": 42
  },
  {
   "cell_type": "markdown",
   "source": [
    "or"
   ],
   "metadata": {}
  },
  {
   "outputs": [
    {
     "output_type": "execute_result",
     "data": {
      "text/plain": "9"
     },
     "metadata": {},
     "execution_count": 43
    }
   ],
   "cell_type": "code",
   "source": [
    "3 |> x -> x^2 # METHOD 2 (anonymous)"
   ],
   "metadata": {},
   "execution_count": 43
  },
  {
   "cell_type": "markdown",
   "source": [
    "or"
   ],
   "metadata": {}
  },
  {
   "outputs": [
    {
     "output_type": "execute_result",
     "data": {
      "text/plain": "9"
     },
     "metadata": {},
     "execution_count": 44
    }
   ],
   "cell_type": "code",
   "source": [
    "function foo2(x) # METHOD 3 (verbose)\n",
    "    y = x\n",
    "    z = y\n",
    "    w = z\n",
    "    return w^2\n",
    "end\n",
    "\n",
    "foo2(3)"
   ],
   "metadata": {},
   "execution_count": 44
  },
  {
   "cell_type": "markdown",
   "source": [
    "## Basic iteration"
   ],
   "metadata": {}
  },
  {
   "cell_type": "markdown",
   "source": [
    "Here are four ways to square the integers from 1 to 10."
   ],
   "metadata": {}
  },
  {
   "cell_type": "markdown",
   "source": [
    "METHOD 1 (explicit loop):"
   ],
   "metadata": {}
  },
  {
   "outputs": [
    {
     "output_type": "execute_result",
     "data": {
      "text/plain": "10-element Vector{Any}:\n   1\n   4\n   9\n  16\n  25\n  36\n  49\n  64\n  81\n 100"
     },
     "metadata": {},
     "execution_count": 45
    }
   ],
   "cell_type": "code",
   "source": [
    "squares = [] # or Int[] if performance matters\n",
    "for x in 1:10\n",
    "    push!(squares, x^2)\n",
    "end\n",
    "\n",
    "squares"
   ],
   "metadata": {},
   "execution_count": 45
  },
  {
   "cell_type": "markdown",
   "source": [
    "METHOD 2 (comprehension):"
   ],
   "metadata": {}
  },
  {
   "outputs": [
    {
     "output_type": "execute_result",
     "data": {
      "text/plain": "10-element Vector{Int64}:\n   1\n   4\n   9\n  16\n  25\n  36\n  49\n  64\n  81\n 100"
     },
     "metadata": {},
     "execution_count": 46
    }
   ],
   "cell_type": "code",
   "source": [
    "[x^2 for x in 1:10]"
   ],
   "metadata": {},
   "execution_count": 46
  },
  {
   "cell_type": "markdown",
   "source": [
    "METHOD 3 (map):"
   ],
   "metadata": {}
  },
  {
   "outputs": [
    {
     "output_type": "execute_result",
     "data": {
      "text/plain": "10-element Vector{Int64}:\n   1\n   4\n   9\n  16\n  25\n  36\n  49\n  64\n  81\n 100"
     },
     "metadata": {},
     "execution_count": 47
    }
   ],
   "cell_type": "code",
   "source": [
    "map(x -> x^2, 1:10)"
   ],
   "metadata": {},
   "execution_count": 47
  },
  {
   "cell_type": "markdown",
   "source": [
    "METHOD 4 (broadcasting with dot syntax):"
   ],
   "metadata": {}
  },
  {
   "outputs": [
    {
     "output_type": "execute_result",
     "data": {
      "text/plain": "10-element Vector{Int64}:\n   1\n   4\n   9\n  16\n  25\n  36\n  49\n  64\n  81\n 100"
     },
     "metadata": {},
     "execution_count": 48
    }
   ],
   "cell_type": "code",
   "source": [
    "(1:10) .^ 2"
   ],
   "metadata": {},
   "execution_count": 48
  },
  {
   "cell_type": "markdown",
   "source": [
    "## Random numbers"
   ],
   "metadata": {}
  },
  {
   "outputs": [
    {
     "output_type": "execute_result",
     "data": {
      "text/plain": "Int64"
     },
     "metadata": {},
     "execution_count": 49
    }
   ],
   "cell_type": "code",
   "source": [
    "typeof(2)"
   ],
   "metadata": {},
   "execution_count": 49
  },
  {
   "outputs": [
    {
     "output_type": "execute_result",
     "data": {
      "text/plain": "0.12823221151675346"
     },
     "metadata": {},
     "execution_count": 50
    }
   ],
   "cell_type": "code",
   "source": [
    "rand() # sample a Float64 uniformly from interval [0, 1]"
   ],
   "metadata": {},
   "execution_count": 50
  },
  {
   "outputs": [
    {
     "output_type": "execute_result",
     "data": {
      "text/plain": "3×4 Matrix{Float64}:\n 0.767869  0.33608    0.355736   0.504577\n 0.287555  0.0272392  0.0125789  0.0329924\n 0.932469  0.619542   0.793721   0.129464"
     },
     "metadata": {},
     "execution_count": 51
    }
   ],
   "cell_type": "code",
   "source": [
    "rand(3, 4) # do that 12 times and put in a 3 x 4 array"
   ],
   "metadata": {},
   "execution_count": 51
  },
  {
   "outputs": [
    {
     "output_type": "execute_result",
     "data": {
      "text/plain": "3×4 Matrix{Float64}:\n -0.750847  -0.337114  -0.66027    -0.121947\n  0.233333   0.570418   0.0371203  -0.185875\n  0.546442  -1.50898   -0.472898   -1.65925"
     },
     "metadata": {},
     "execution_count": 52
    }
   ],
   "cell_type": "code",
   "source": [
    "randn(3, 4) # use normal distribution instead"
   ],
   "metadata": {},
   "execution_count": 52
  },
  {
   "outputs": [
    {
     "output_type": "execute_result",
     "data": {
      "text/plain": "111"
     },
     "metadata": {},
     "execution_count": 53
    }
   ],
   "cell_type": "code",
   "source": [
    "rand(Int8) # random elment of type Int8"
   ],
   "metadata": {},
   "execution_count": 53
  },
  {
   "outputs": [
    {
     "output_type": "execute_result",
     "data": {
      "text/plain": "10-element Vector{Char}:\n 'c': ASCII/Unicode U+0063 (category Ll: Letter, lowercase)\n 'a': ASCII/Unicode U+0061 (category Ll: Letter, lowercase)\n 'b': ASCII/Unicode U+0062 (category Ll: Letter, lowercase)\n 'a': ASCII/Unicode U+0061 (category Ll: Letter, lowercase)\n 'b': ASCII/Unicode U+0062 (category Ll: Letter, lowercase)\n 'b': ASCII/Unicode U+0062 (category Ll: Letter, lowercase)\n 'c': ASCII/Unicode U+0063 (category Ll: Letter, lowercase)\n 'b': ASCII/Unicode U+0062 (category Ll: Letter, lowercase)\n 'a': ASCII/Unicode U+0061 (category Ll: Letter, lowercase)\n 'b': ASCII/Unicode U+0062 (category Ll: Letter, lowercase)"
     },
     "metadata": {},
     "execution_count": 54
    }
   ],
   "cell_type": "code",
   "source": [
    "rand(['a', 'b', 'c'], 10) # 10 random elements from a vector"
   ],
   "metadata": {},
   "execution_count": 54
  },
  {
   "cell_type": "markdown",
   "source": [
    "Some standard libraries are needed to do more, for example:"
   ],
   "metadata": {}
  },
  {
   "outputs": [],
   "cell_type": "code",
   "source": [
    "using Random"
   ],
   "metadata": {},
   "execution_count": 55
  },
  {
   "outputs": [
    {
     "output_type": "execute_result",
     "data": {
      "text/plain": "\"hdgbEJkwYzk7cvYzC0TZgoB6IhRjBr\""
     },
     "metadata": {},
     "execution_count": 56
    }
   ],
   "cell_type": "code",
   "source": [
    "randstring(30)"
   ],
   "metadata": {},
   "execution_count": 56
  },
  {
   "outputs": [],
   "cell_type": "code",
   "source": [
    "using Statistics"
   ],
   "metadata": {},
   "execution_count": 57
  },
  {
   "outputs": [
    {
     "output_type": "execute_result",
     "data": {
      "text/plain": "0.43411148096562874"
     },
     "metadata": {},
     "execution_count": 58
    }
   ],
   "cell_type": "code",
   "source": [
    "y = rand(30)\n",
    "mean(y)"
   ],
   "metadata": {},
   "execution_count": 58
  },
  {
   "outputs": [
    {
     "output_type": "execute_result",
     "data": {
      "text/plain": "0.6842032464186547"
     },
     "metadata": {},
     "execution_count": 59
    }
   ],
   "cell_type": "code",
   "source": [
    "quantile(y, 0.75)"
   ],
   "metadata": {},
   "execution_count": 59
  },
  {
   "cell_type": "markdown",
   "source": [
    "## Probability distributions"
   ],
   "metadata": {}
  },
  {
   "cell_type": "markdown",
   "source": [
    "For sampling from more general distributions we need\n",
    "Distributions.jl package which is not part of the standard library."
   ],
   "metadata": {}
  },
  {
   "outputs": [],
   "cell_type": "code",
   "source": [
    "using Distributions\n",
    "\n",
    "N = 1000\n",
    "samples = rand(Normal(), N);   # equivalent to Julia's built-in `randn(d)`\n",
    "samples = (samples).^2;        # square element-wise"
   ],
   "metadata": {},
   "execution_count": 60
  },
  {
   "outputs": [
    {
     "output_type": "execute_result",
     "data": {
      "text/plain": "Distributions.Gamma{Float64}(α=0.5180049365433226, θ=1.9516255137766076)"
     },
     "metadata": {},
     "execution_count": 61
    }
   ],
   "cell_type": "code",
   "source": [
    "g = fit(Gamma, samples)"
   ],
   "metadata": {},
   "execution_count": 61
  },
  {
   "outputs": [
    {
     "output_type": "execute_result",
     "data": {
      "text/plain": "1.010951650420181"
     },
     "metadata": {},
     "execution_count": 62
    }
   ],
   "cell_type": "code",
   "source": [
    "mean(g)"
   ],
   "metadata": {},
   "execution_count": 62
  },
  {
   "outputs": [
    {
     "output_type": "execute_result",
     "data": {
      "text/plain": "0.47426857396897515"
     },
     "metadata": {},
     "execution_count": 63
    }
   ],
   "cell_type": "code",
   "source": [
    "median(g)"
   ],
   "metadata": {},
   "execution_count": 63
  },
  {
   "outputs": [
    {
     "output_type": "execute_result",
     "data": {
      "text/plain": "0.24744673997102484"
     },
     "metadata": {},
     "execution_count": 64
    }
   ],
   "cell_type": "code",
   "source": [
    "pdf(g, 1)"
   ],
   "metadata": {},
   "execution_count": 64
  },
  {
   "outputs": [],
   "cell_type": "code",
   "source": [
    "using PkgOnlineHelp"
   ],
   "metadata": {},
   "execution_count": 65
  },
  {
   "cell_type": "markdown",
   "source": [
    "Uncomment and execute the next line to launch Distribution documentation in your browser:"
   ],
   "metadata": {}
  },
  {
   "outputs": [],
   "cell_type": "code",
   "source": [
    "#@docs Distributions"
   ],
   "metadata": {},
   "execution_count": 66
  },
  {
   "cell_type": "markdown",
   "source": [
    "## Plotting"
   ],
   "metadata": {}
  },
  {
   "outputs": [],
   "cell_type": "code",
   "source": [
    "using CairoMakie"
   ],
   "metadata": {},
   "execution_count": 67
  },
  {
   "outputs": [
    {
     "output_type": "execute_result",
     "data": {
      "text/plain": "Figure()",
      "image/png": "[encoded data removed]",
      "text/html": [
       "<img width=600 height=450 style='object-fit: contain; height: auto;' src=\"data:image/png;base64, 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\"/>"
      ]
     },
     "metadata": {},
     "execution_count": 68
    }
   ],
   "cell_type": "code",
   "source": [
    "f(x) = pdf(g, x)\n",
    "\n",
    "xs = 0:0.1:4 # floats from 0 to 4 in steps of 0.1\n",
    "ys = f.(xs)  # apply f element-wise to xs\n",
    "\n",
    "fig = lines(xs, ys)\n",
    "hist!(samples, normalization=:pdf, bins=40, color=(:darkblue, 0.4))\n",
    "current_figure()"
   ],
   "metadata": {},
   "execution_count": 68
  },
  {
   "outputs": [
    {
     "output_type": "execute_result",
     "data": {
      "text/plain": "CairoMakie.Screen{IMAGE}\n"
     },
     "metadata": {},
     "execution_count": 69
    }
   ],
   "cell_type": "code",
   "source": [
    "save(\"my_first_plot.png\", fig)"
   ],
   "metadata": {},
   "execution_count": 69
  },
  {
   "cell_type": "markdown",
   "source": [
    "# Exercises"
   ],
   "metadata": {}
  },
  {
   "cell_type": "markdown",
   "source": [
    "## Exercise 1"
   ],
   "metadata": {}
  },
  {
   "cell_type": "markdown",
   "source": [
    "Write a function named `total` that adds the elements of its vector input."
   ],
   "metadata": {}
  },
  {
   "cell_type": "markdown",
   "source": [
    "## Exercise 2"
   ],
   "metadata": {}
  },
  {
   "cell_type": "markdown",
   "source": [
    "Generate a 1000 random samples from the standard normal\n",
    "distribution. Create a second such sample, and add the two samples\n",
    "point-wise.  Compute the (sample) mean and variance of the combined\n",
    "samples. In the same\n",
    "plot, show a frequency-normalized histogram of the combined samples\n",
    "and a plot of the pdf for normal distribution with zero mean and\n",
    "variance `2`."
   ],
   "metadata": {}
  },
  {
   "cell_type": "markdown",
   "source": [
    "You can use `std` to compute the standard deviation and `sqrt` to\n",
    "compute square roots."
   ],
   "metadata": {}
  },
  {
   "cell_type": "markdown",
   "source": [
    "## Exercise 3"
   ],
   "metadata": {}
  },
  {
   "cell_type": "markdown",
   "source": [
    "The following shows that named tuples share some behaviour with dictionaries:"
   ],
   "metadata": {}
  },
  {
   "outputs": [
    {
     "output_type": "execute_result",
     "data": {
      "text/plain": "(:x, :y, :z)"
     },
     "metadata": {},
     "execution_count": 70
    }
   ],
   "cell_type": "code",
   "source": [
    "t = (x = 1, y = \"cat\", z = 4.5)\n",
    "keys(t)"
   ],
   "metadata": {},
   "execution_count": 70
  },
  {
   "outputs": [
    {
     "output_type": "execute_result",
     "data": {
      "text/plain": "\"cat\""
     },
     "metadata": {},
     "execution_count": 71
    }
   ],
   "cell_type": "code",
   "source": [
    "t[:y]"
   ],
   "metadata": {},
   "execution_count": 71
  },
  {
   "cell_type": "markdown",
   "source": [
    "Write a function called `dict` that converts a named tuple to an\n",
    "actual dictionary. You can create an empty dictionary using `Dict()`."
   ],
   "metadata": {}
  },
  {
   "cell_type": "markdown",
   "source": [
    "---\n",
    "\n",
    "*This notebook was generated using [Literate.jl](https://github.com/fredrikekre/Literate.jl).*"
   ],
   "metadata": {}
  }
 ],
 "nbformat_minor": 3,
 "metadata": {
  "language_info": {
   "file_extension": ".jl",
   "mimetype": "application/julia",
   "name": "julia",
   "version": "1.10.3"
  },
  "kernelspec": {
   "name": "julia-1.10",
   "display_name": "Julia 1.10.3",
   "language": "julia"
  }
 },
 "nbformat": 4
}
